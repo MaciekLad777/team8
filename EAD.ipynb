{
  "cells": [
    {
      "cell_type": "code",
      "execution_count": null,
      "metadata": {
        "colab": {
          "base_uri": "https://localhost:8080/"
        },
        "id": "VevETBSMMhDb",
        "outputId": "ae009866-1a27-4e6e-dea9-4c52dd00cc4c"
      },
      "outputs": [
        {
          "output_type": "stream",
          "name": "stdout",
          "text": [
            "Drive already mounted at /content/drive; to attempt to forcibly remount, call drive.mount(\"/content/drive\", force_remount=True).\n"
          ]
        }
      ],
      "source": [
        "import pandas as pd\n",
        "from google.colab import drive\n",
        "import json\n",
        "import seaborn as sns\n",
        "import matplotlib.pyplot as plt\n",
        "\n",
        "drive.mount('/content/drive')\n",
        "\n",
        "df_train = pd.read_csv(\"/content/drive/MyDrive/DSC/DATA/train.csv\")\n",
        "df_items = pd.read_csv(\"/content/drive/MyDrive/DSC/DATA/item_metadata_filtered.csv\")\n",
        "with open(\"/content/drive/MyDrive/DSC/DATA/id_mappings.json\", \"r\") as f:\n",
        "    id_mappings = json.load(f)"
      ]
    },
    {
      "cell_type": "code",
      "source": [
        "df_items"
      ],
      "metadata": {
        "colab": {
          "base_uri": "https://localhost:8080/",
          "height": 788
        },
        "id": "NYBmXymP4E3f",
        "outputId": "42f8ec56-76e4-4cf9-d100-2bf6a709674a"
      },
      "execution_count": null,
      "outputs": [
        {
          "output_type": "execute_result",
          "data": {
            "text/plain": [
              "      parent_asin main_category  \\\n",
              "0      B07WFSQXL5    All Beauty   \n",
              "1      B08BV6F6BC    All Beauty   \n",
              "2      B07Z818MLY    All Beauty   \n",
              "3      B071DY8Z4B    All Beauty   \n",
              "4      B0BTLTVR1X    All Beauty   \n",
              "...           ...           ...   \n",
              "77828  B000NE85S2           NaN   \n",
              "77829  B076NZT5VY      Software   \n",
              "77830  B001FSG0TQ           NaN   \n",
              "77831  B0009STM5C      Software   \n",
              "77832  B005ZK91KK      Software   \n",
              "\n",
              "                                                   title  average_rating  \\\n",
              "0      PPY Eyelash Growth Serum – Natural Ingredients...             3.9   \n",
              "1      Wixar Natural Sea Moss Soap - (2 PACK) - Laven...             4.4   \n",
              "2      7 Packs Deep Wave Crochet Hair 22 Inch Deep wa...             3.4   \n",
              "3      BEWAVE Hair Brush Sponge Twist With Comb Hair ...             4.2   \n",
              "4      Zydeco Chop Chop Cajun Seasoning Base, 8 Ounce...             4.7   \n",
              "...                                                  ...             ...   \n",
              "77828                     Quicken Family Lawyer (CD-ROM)             3.5   \n",
              "77829  Ubuntu 16.04 Linux Desktop - 32-Bit 64-Bit Sup...             3.7   \n",
              "77830              The Print Shop: Labels and Logos 2009             2.3   \n",
              "77831  Jumpstart Advanced Kindergarten (PC & Mac) [OL...             3.7   \n",
              "77832  Better Homes and Gardens Landscaping and Deck ...             3.0   \n",
              "\n",
              "       rating_number  price                      store  \\\n",
              "0              114.0    NaN                        PPY   \n",
              "1               41.0    NaN             WIXAR NATURALS   \n",
              "2               10.0    NaN               Yun Mei Hair   \n",
              "3               24.0    NaN                     BEWAVE   \n",
              "4               21.0    NaN                    BORELTH   \n",
              "...              ...    ...                        ...   \n",
              "77828           14.0    NaN         Parsons Technology   \n",
              "77829            4.0    NaN  BrownTech PC System Tools   \n",
              "77830            4.0    NaN                     Encore   \n",
              "77831            4.0    NaN        Knowledge Adventure   \n",
              "77832           19.0    NaN            Chief Architect   \n",
              "\n",
              "                                                features  \\\n",
              "0                                                     []   \n",
              "1                                                     []   \n",
              "2                                                     []   \n",
              "3                                                     []   \n",
              "4      ['All Natural blend of Dehydrated Onion, Dehyd...   \n",
              "...                                                  ...   \n",
              "77828  [\"America's Best-Selling Legal Software!\"\\n 'P...   \n",
              "77829  ['Ubuntu 16.04 Linux on 2 Disc DVD Set 32 Bit ...   \n",
              "77830  ['Drag-and-drop design tools' 'Photo-realistic...   \n",
              "77831  ['This 3-CD set uses a fun animal theme to int...   \n",
              "77832  ['Create the perfect outdoor living space with...   \n",
              "\n",
              "                                             description  \\\n",
              "0                                                     []   \n",
              "1                                                     []   \n",
              "2                                                     []   \n",
              "3                                                     []   \n",
              "4      ['Zydeco Chop Chop is a blend of Dehydrated On...   \n",
              "...                                                  ...   \n",
              "77828  ['86 Forms in 10 categories: Estate Planning (...   \n",
              "77829  ['Ubuntu 16.04 \"Xenial Xerus\" 64-BIT & 32BIT L...   \n",
              "77830  ['Everything you need to create impressive lab...   \n",
              "77831  ['From the Manufacturer'\\n 'The JumpStart Adva...   \n",
              "77832  ['Product description'\\n \"You'll be amazed at ...   \n",
              "\n",
              "                                                  images  \\\n",
              "0      {'hi_res': array(['https://m.media-amazon.com/...   \n",
              "1      {'hi_res': array(['https://m.media-amazon.com/...   \n",
              "2      {'hi_res': array(['https://m.media-amazon.com/...   \n",
              "3      {'hi_res': array(['https://m.media-amazon.com/...   \n",
              "4      {'hi_res': array(['https://m.media-amazon.com/...   \n",
              "...                                                  ...   \n",
              "77828  {'hi_res': array([None], dtype=object), 'large...   \n",
              "77829  {'hi_res': array(['https://m.media-amazon.com/...   \n",
              "77830  {'hi_res': array([None], dtype=object), 'large...   \n",
              "77831  {'hi_res': array([None], dtype=object), 'large...   \n",
              "77832  {'hi_res': array(['https://m.media-amazon.com/...   \n",
              "\n",
              "                                              categories  image_count  \\\n",
              "0                                                     []           27   \n",
              "1                                                     []           21   \n",
              "2                                                     []           21   \n",
              "3                                                     []           17   \n",
              "4                                                     []            3   \n",
              "...                                                  ...          ...   \n",
              "77828           ['Software' 'Business & Office' 'Legal']            2   \n",
              "77829  ['Software' 'Linux' 'Operating Systems & Utili...           18   \n",
              "77830   ['Software' 'Business & Office' 'Office Suites']            2   \n",
              "77831  ['Software' 'Blizzard, Knowledge Adventure & S...            2   \n",
              "77832  ['Software' 'Photography & Graphic Design' 'CA...           13   \n",
              "\n",
              "       has_images                                         image_urls  \\\n",
              "0            True  ['https://m.media-amazon.com/images/I/615N6fkc...   \n",
              "1            True  ['https://m.media-amazon.com/images/I/81ugegqe...   \n",
              "2            True  ['https://m.media-amazon.com/images/I/71aVcpK8...   \n",
              "3            True  ['https://m.media-amazon.com/images/I/61or2jYp...   \n",
              "4            True  ['https://m.media-amazon.com/images/I/71707mY6...   \n",
              "...           ...                                                ...   \n",
              "77828        True  ['https://m.media-amazon.com/images/I/41+rSEEa...   \n",
              "77829        True  ['https://m.media-amazon.com/images/I/71QlusvD...   \n",
              "77830        True  ['https://m.media-amazon.com/images/I/51xSHvST...   \n",
              "77831        True  ['https://m.media-amazon.com/images/I/41YPPRP8...   \n",
              "77832        True  ['https://m.media-amazon.com/images/I/91Q5-pu2...   \n",
              "\n",
              "         category  \n",
              "0      All_Beauty  \n",
              "1      All_Beauty  \n",
              "2      All_Beauty  \n",
              "3      All_Beauty  \n",
              "4      All_Beauty  \n",
              "...           ...  \n",
              "77828    Software  \n",
              "77829    Software  \n",
              "77830    Software  \n",
              "77831    Software  \n",
              "77832    Software  \n",
              "\n",
              "[77833 rows x 15 columns]"
            ],
            "text/html": [
              "\n",
              "  <div id=\"df-ac187c1b-4e78-433e-b22c-d7fc85213a37\" class=\"colab-df-container\">\n",
              "    <div>\n",
              "<style scoped>\n",
              "    .dataframe tbody tr th:only-of-type {\n",
              "        vertical-align: middle;\n",
              "    }\n",
              "\n",
              "    .dataframe tbody tr th {\n",
              "        vertical-align: top;\n",
              "    }\n",
              "\n",
              "    .dataframe thead th {\n",
              "        text-align: right;\n",
              "    }\n",
              "</style>\n",
              "<table border=\"1\" class=\"dataframe\">\n",
              "  <thead>\n",
              "    <tr style=\"text-align: right;\">\n",
              "      <th></th>\n",
              "      <th>parent_asin</th>\n",
              "      <th>main_category</th>\n",
              "      <th>title</th>\n",
              "      <th>average_rating</th>\n",
              "      <th>rating_number</th>\n",
              "      <th>price</th>\n",
              "      <th>store</th>\n",
              "      <th>features</th>\n",
              "      <th>description</th>\n",
              "      <th>images</th>\n",
              "      <th>categories</th>\n",
              "      <th>image_count</th>\n",
              "      <th>has_images</th>\n",
              "      <th>image_urls</th>\n",
              "      <th>category</th>\n",
              "    </tr>\n",
              "  </thead>\n",
              "  <tbody>\n",
              "    <tr>\n",
              "      <th>0</th>\n",
              "      <td>B07WFSQXL5</td>\n",
              "      <td>All Beauty</td>\n",
              "      <td>PPY Eyelash Growth Serum – Natural Ingredients...</td>\n",
              "      <td>3.9</td>\n",
              "      <td>114.0</td>\n",
              "      <td>NaN</td>\n",
              "      <td>PPY</td>\n",
              "      <td>[]</td>\n",
              "      <td>[]</td>\n",
              "      <td>{'hi_res': array(['https://m.media-amazon.com/...</td>\n",
              "      <td>[]</td>\n",
              "      <td>27</td>\n",
              "      <td>True</td>\n",
              "      <td>['https://m.media-amazon.com/images/I/615N6fkc...</td>\n",
              "      <td>All_Beauty</td>\n",
              "    </tr>\n",
              "    <tr>\n",
              "      <th>1</th>\n",
              "      <td>B08BV6F6BC</td>\n",
              "      <td>All Beauty</td>\n",
              "      <td>Wixar Natural Sea Moss Soap - (2 PACK) - Laven...</td>\n",
              "      <td>4.4</td>\n",
              "      <td>41.0</td>\n",
              "      <td>NaN</td>\n",
              "      <td>WIXAR NATURALS</td>\n",
              "      <td>[]</td>\n",
              "      <td>[]</td>\n",
              "      <td>{'hi_res': array(['https://m.media-amazon.com/...</td>\n",
              "      <td>[]</td>\n",
              "      <td>21</td>\n",
              "      <td>True</td>\n",
              "      <td>['https://m.media-amazon.com/images/I/81ugegqe...</td>\n",
              "      <td>All_Beauty</td>\n",
              "    </tr>\n",
              "    <tr>\n",
              "      <th>2</th>\n",
              "      <td>B07Z818MLY</td>\n",
              "      <td>All Beauty</td>\n",
              "      <td>7 Packs Deep Wave Crochet Hair 22 Inch Deep wa...</td>\n",
              "      <td>3.4</td>\n",
              "      <td>10.0</td>\n",
              "      <td>NaN</td>\n",
              "      <td>Yun Mei Hair</td>\n",
              "      <td>[]</td>\n",
              "      <td>[]</td>\n",
              "      <td>{'hi_res': array(['https://m.media-amazon.com/...</td>\n",
              "      <td>[]</td>\n",
              "      <td>21</td>\n",
              "      <td>True</td>\n",
              "      <td>['https://m.media-amazon.com/images/I/71aVcpK8...</td>\n",
              "      <td>All_Beauty</td>\n",
              "    </tr>\n",
              "    <tr>\n",
              "      <th>3</th>\n",
              "      <td>B071DY8Z4B</td>\n",
              "      <td>All Beauty</td>\n",
              "      <td>BEWAVE Hair Brush Sponge Twist With Comb Hair ...</td>\n",
              "      <td>4.2</td>\n",
              "      <td>24.0</td>\n",
              "      <td>NaN</td>\n",
              "      <td>BEWAVE</td>\n",
              "      <td>[]</td>\n",
              "      <td>[]</td>\n",
              "      <td>{'hi_res': array(['https://m.media-amazon.com/...</td>\n",
              "      <td>[]</td>\n",
              "      <td>17</td>\n",
              "      <td>True</td>\n",
              "      <td>['https://m.media-amazon.com/images/I/61or2jYp...</td>\n",
              "      <td>All_Beauty</td>\n",
              "    </tr>\n",
              "    <tr>\n",
              "      <th>4</th>\n",
              "      <td>B0BTLTVR1X</td>\n",
              "      <td>All Beauty</td>\n",
              "      <td>Zydeco Chop Chop Cajun Seasoning Base, 8 Ounce...</td>\n",
              "      <td>4.7</td>\n",
              "      <td>21.0</td>\n",
              "      <td>NaN</td>\n",
              "      <td>BORELTH</td>\n",
              "      <td>['All Natural blend of Dehydrated Onion, Dehyd...</td>\n",
              "      <td>['Zydeco Chop Chop is a blend of Dehydrated On...</td>\n",
              "      <td>{'hi_res': array(['https://m.media-amazon.com/...</td>\n",
              "      <td>[]</td>\n",
              "      <td>3</td>\n",
              "      <td>True</td>\n",
              "      <td>['https://m.media-amazon.com/images/I/71707mY6...</td>\n",
              "      <td>All_Beauty</td>\n",
              "    </tr>\n",
              "    <tr>\n",
              "      <th>...</th>\n",
              "      <td>...</td>\n",
              "      <td>...</td>\n",
              "      <td>...</td>\n",
              "      <td>...</td>\n",
              "      <td>...</td>\n",
              "      <td>...</td>\n",
              "      <td>...</td>\n",
              "      <td>...</td>\n",
              "      <td>...</td>\n",
              "      <td>...</td>\n",
              "      <td>...</td>\n",
              "      <td>...</td>\n",
              "      <td>...</td>\n",
              "      <td>...</td>\n",
              "      <td>...</td>\n",
              "    </tr>\n",
              "    <tr>\n",
              "      <th>77828</th>\n",
              "      <td>B000NE85S2</td>\n",
              "      <td>NaN</td>\n",
              "      <td>Quicken Family Lawyer (CD-ROM)</td>\n",
              "      <td>3.5</td>\n",
              "      <td>14.0</td>\n",
              "      <td>NaN</td>\n",
              "      <td>Parsons Technology</td>\n",
              "      <td>[\"America's Best-Selling Legal Software!\"\\n 'P...</td>\n",
              "      <td>['86 Forms in 10 categories: Estate Planning (...</td>\n",
              "      <td>{'hi_res': array([None], dtype=object), 'large...</td>\n",
              "      <td>['Software' 'Business &amp; Office' 'Legal']</td>\n",
              "      <td>2</td>\n",
              "      <td>True</td>\n",
              "      <td>['https://m.media-amazon.com/images/I/41+rSEEa...</td>\n",
              "      <td>Software</td>\n",
              "    </tr>\n",
              "    <tr>\n",
              "      <th>77829</th>\n",
              "      <td>B076NZT5VY</td>\n",
              "      <td>Software</td>\n",
              "      <td>Ubuntu 16.04 Linux Desktop - 32-Bit 64-Bit Sup...</td>\n",
              "      <td>3.7</td>\n",
              "      <td>4.0</td>\n",
              "      <td>NaN</td>\n",
              "      <td>BrownTech PC System Tools</td>\n",
              "      <td>['Ubuntu 16.04 Linux on 2 Disc DVD Set 32 Bit ...</td>\n",
              "      <td>['Ubuntu 16.04 \"Xenial Xerus\" 64-BIT &amp; 32BIT L...</td>\n",
              "      <td>{'hi_res': array(['https://m.media-amazon.com/...</td>\n",
              "      <td>['Software' 'Linux' 'Operating Systems &amp; Utili...</td>\n",
              "      <td>18</td>\n",
              "      <td>True</td>\n",
              "      <td>['https://m.media-amazon.com/images/I/71QlusvD...</td>\n",
              "      <td>Software</td>\n",
              "    </tr>\n",
              "    <tr>\n",
              "      <th>77830</th>\n",
              "      <td>B001FSG0TQ</td>\n",
              "      <td>NaN</td>\n",
              "      <td>The Print Shop: Labels and Logos 2009</td>\n",
              "      <td>2.3</td>\n",
              "      <td>4.0</td>\n",
              "      <td>NaN</td>\n",
              "      <td>Encore</td>\n",
              "      <td>['Drag-and-drop design tools' 'Photo-realistic...</td>\n",
              "      <td>['Everything you need to create impressive lab...</td>\n",
              "      <td>{'hi_res': array([None], dtype=object), 'large...</td>\n",
              "      <td>['Software' 'Business &amp; Office' 'Office Suites']</td>\n",
              "      <td>2</td>\n",
              "      <td>True</td>\n",
              "      <td>['https://m.media-amazon.com/images/I/51xSHvST...</td>\n",
              "      <td>Software</td>\n",
              "    </tr>\n",
              "    <tr>\n",
              "      <th>77831</th>\n",
              "      <td>B0009STM5C</td>\n",
              "      <td>Software</td>\n",
              "      <td>Jumpstart Advanced Kindergarten (PC &amp; Mac) [OL...</td>\n",
              "      <td>3.7</td>\n",
              "      <td>4.0</td>\n",
              "      <td>NaN</td>\n",
              "      <td>Knowledge Adventure</td>\n",
              "      <td>['This 3-CD set uses a fun animal theme to int...</td>\n",
              "      <td>['From the Manufacturer'\\n 'The JumpStart Adva...</td>\n",
              "      <td>{'hi_res': array([None], dtype=object), 'large...</td>\n",
              "      <td>['Software' 'Blizzard, Knowledge Adventure &amp; S...</td>\n",
              "      <td>2</td>\n",
              "      <td>True</td>\n",
              "      <td>['https://m.media-amazon.com/images/I/41YPPRP8...</td>\n",
              "      <td>Software</td>\n",
              "    </tr>\n",
              "    <tr>\n",
              "      <th>77832</th>\n",
              "      <td>B005ZK91KK</td>\n",
              "      <td>Software</td>\n",
              "      <td>Better Homes and Gardens Landscaping and Deck ...</td>\n",
              "      <td>3.0</td>\n",
              "      <td>19.0</td>\n",
              "      <td>NaN</td>\n",
              "      <td>Chief Architect</td>\n",
              "      <td>['Create the perfect outdoor living space with...</td>\n",
              "      <td>['Product description'\\n \"You'll be amazed at ...</td>\n",
              "      <td>{'hi_res': array(['https://m.media-amazon.com/...</td>\n",
              "      <td>['Software' 'Photography &amp; Graphic Design' 'CA...</td>\n",
              "      <td>13</td>\n",
              "      <td>True</td>\n",
              "      <td>['https://m.media-amazon.com/images/I/91Q5-pu2...</td>\n",
              "      <td>Software</td>\n",
              "    </tr>\n",
              "  </tbody>\n",
              "</table>\n",
              "<p>77833 rows × 15 columns</p>\n",
              "</div>\n",
              "    <div class=\"colab-df-buttons\">\n",
              "\n",
              "  <div class=\"colab-df-container\">\n",
              "    <button class=\"colab-df-convert\" onclick=\"convertToInteractive('df-ac187c1b-4e78-433e-b22c-d7fc85213a37')\"\n",
              "            title=\"Convert this dataframe to an interactive table.\"\n",
              "            style=\"display:none;\">\n",
              "\n",
              "  <svg xmlns=\"http://www.w3.org/2000/svg\" height=\"24px\" viewBox=\"0 -960 960 960\">\n",
              "    <path d=\"M120-120v-720h720v720H120Zm60-500h600v-160H180v160Zm220 220h160v-160H400v160Zm0 220h160v-160H400v160ZM180-400h160v-160H180v160Zm440 0h160v-160H620v160ZM180-180h160v-160H180v160Zm440 0h160v-160H620v160Z\"/>\n",
              "  </svg>\n",
              "    </button>\n",
              "\n",
              "  <style>\n",
              "    .colab-df-container {\n",
              "      display:flex;\n",
              "      gap: 12px;\n",
              "    }\n",
              "\n",
              "    .colab-df-convert {\n",
              "      background-color: #E8F0FE;\n",
              "      border: none;\n",
              "      border-radius: 50%;\n",
              "      cursor: pointer;\n",
              "      display: none;\n",
              "      fill: #1967D2;\n",
              "      height: 32px;\n",
              "      padding: 0 0 0 0;\n",
              "      width: 32px;\n",
              "    }\n",
              "\n",
              "    .colab-df-convert:hover {\n",
              "      background-color: #E2EBFA;\n",
              "      box-shadow: 0px 1px 2px rgba(60, 64, 67, 0.3), 0px 1px 3px 1px rgba(60, 64, 67, 0.15);\n",
              "      fill: #174EA6;\n",
              "    }\n",
              "\n",
              "    .colab-df-buttons div {\n",
              "      margin-bottom: 4px;\n",
              "    }\n",
              "\n",
              "    [theme=dark] .colab-df-convert {\n",
              "      background-color: #3B4455;\n",
              "      fill: #D2E3FC;\n",
              "    }\n",
              "\n",
              "    [theme=dark] .colab-df-convert:hover {\n",
              "      background-color: #434B5C;\n",
              "      box-shadow: 0px 1px 3px 1px rgba(0, 0, 0, 0.15);\n",
              "      filter: drop-shadow(0px 1px 2px rgba(0, 0, 0, 0.3));\n",
              "      fill: #FFFFFF;\n",
              "    }\n",
              "  </style>\n",
              "\n",
              "    <script>\n",
              "      const buttonEl =\n",
              "        document.querySelector('#df-ac187c1b-4e78-433e-b22c-d7fc85213a37 button.colab-df-convert');\n",
              "      buttonEl.style.display =\n",
              "        google.colab.kernel.accessAllowed ? 'block' : 'none';\n",
              "\n",
              "      async function convertToInteractive(key) {\n",
              "        const element = document.querySelector('#df-ac187c1b-4e78-433e-b22c-d7fc85213a37');\n",
              "        const dataTable =\n",
              "          await google.colab.kernel.invokeFunction('convertToInteractive',\n",
              "                                                    [key], {});\n",
              "        if (!dataTable) return;\n",
              "\n",
              "        const docLinkHtml = 'Like what you see? Visit the ' +\n",
              "          '<a target=\"_blank\" href=https://colab.research.google.com/notebooks/data_table.ipynb>data table notebook</a>'\n",
              "          + ' to learn more about interactive tables.';\n",
              "        element.innerHTML = '';\n",
              "        dataTable['output_type'] = 'display_data';\n",
              "        await google.colab.output.renderOutput(dataTable, element);\n",
              "        const docLink = document.createElement('div');\n",
              "        docLink.innerHTML = docLinkHtml;\n",
              "        element.appendChild(docLink);\n",
              "      }\n",
              "    </script>\n",
              "  </div>\n",
              "\n",
              "\n",
              "    <div id=\"df-b110895c-bc38-4480-a632-c8d56eea8ad8\">\n",
              "      <button class=\"colab-df-quickchart\" onclick=\"quickchart('df-b110895c-bc38-4480-a632-c8d56eea8ad8')\"\n",
              "                title=\"Suggest charts\"\n",
              "                style=\"display:none;\">\n",
              "\n",
              "<svg xmlns=\"http://www.w3.org/2000/svg\" height=\"24px\"viewBox=\"0 0 24 24\"\n",
              "     width=\"24px\">\n",
              "    <g>\n",
              "        <path d=\"M19 3H5c-1.1 0-2 .9-2 2v14c0 1.1.9 2 2 2h14c1.1 0 2-.9 2-2V5c0-1.1-.9-2-2-2zM9 17H7v-7h2v7zm4 0h-2V7h2v10zm4 0h-2v-4h2v4z\"/>\n",
              "    </g>\n",
              "</svg>\n",
              "      </button>\n",
              "\n",
              "<style>\n",
              "  .colab-df-quickchart {\n",
              "      --bg-color: #E8F0FE;\n",
              "      --fill-color: #1967D2;\n",
              "      --hover-bg-color: #E2EBFA;\n",
              "      --hover-fill-color: #174EA6;\n",
              "      --disabled-fill-color: #AAA;\n",
              "      --disabled-bg-color: #DDD;\n",
              "  }\n",
              "\n",
              "  [theme=dark] .colab-df-quickchart {\n",
              "      --bg-color: #3B4455;\n",
              "      --fill-color: #D2E3FC;\n",
              "      --hover-bg-color: #434B5C;\n",
              "      --hover-fill-color: #FFFFFF;\n",
              "      --disabled-bg-color: #3B4455;\n",
              "      --disabled-fill-color: #666;\n",
              "  }\n",
              "\n",
              "  .colab-df-quickchart {\n",
              "    background-color: var(--bg-color);\n",
              "    border: none;\n",
              "    border-radius: 50%;\n",
              "    cursor: pointer;\n",
              "    display: none;\n",
              "    fill: var(--fill-color);\n",
              "    height: 32px;\n",
              "    padding: 0;\n",
              "    width: 32px;\n",
              "  }\n",
              "\n",
              "  .colab-df-quickchart:hover {\n",
              "    background-color: var(--hover-bg-color);\n",
              "    box-shadow: 0 1px 2px rgba(60, 64, 67, 0.3), 0 1px 3px 1px rgba(60, 64, 67, 0.15);\n",
              "    fill: var(--button-hover-fill-color);\n",
              "  }\n",
              "\n",
              "  .colab-df-quickchart-complete:disabled,\n",
              "  .colab-df-quickchart-complete:disabled:hover {\n",
              "    background-color: var(--disabled-bg-color);\n",
              "    fill: var(--disabled-fill-color);\n",
              "    box-shadow: none;\n",
              "  }\n",
              "\n",
              "  .colab-df-spinner {\n",
              "    border: 2px solid var(--fill-color);\n",
              "    border-color: transparent;\n",
              "    border-bottom-color: var(--fill-color);\n",
              "    animation:\n",
              "      spin 1s steps(1) infinite;\n",
              "  }\n",
              "\n",
              "  @keyframes spin {\n",
              "    0% {\n",
              "      border-color: transparent;\n",
              "      border-bottom-color: var(--fill-color);\n",
              "      border-left-color: var(--fill-color);\n",
              "    }\n",
              "    20% {\n",
              "      border-color: transparent;\n",
              "      border-left-color: var(--fill-color);\n",
              "      border-top-color: var(--fill-color);\n",
              "    }\n",
              "    30% {\n",
              "      border-color: transparent;\n",
              "      border-left-color: var(--fill-color);\n",
              "      border-top-color: var(--fill-color);\n",
              "      border-right-color: var(--fill-color);\n",
              "    }\n",
              "    40% {\n",
              "      border-color: transparent;\n",
              "      border-right-color: var(--fill-color);\n",
              "      border-top-color: var(--fill-color);\n",
              "    }\n",
              "    60% {\n",
              "      border-color: transparent;\n",
              "      border-right-color: var(--fill-color);\n",
              "    }\n",
              "    80% {\n",
              "      border-color: transparent;\n",
              "      border-right-color: var(--fill-color);\n",
              "      border-bottom-color: var(--fill-color);\n",
              "    }\n",
              "    90% {\n",
              "      border-color: transparent;\n",
              "      border-bottom-color: var(--fill-color);\n",
              "    }\n",
              "  }\n",
              "</style>\n",
              "\n",
              "      <script>\n",
              "        async function quickchart(key) {\n",
              "          const quickchartButtonEl =\n",
              "            document.querySelector('#' + key + ' button');\n",
              "          quickchartButtonEl.disabled = true;  // To prevent multiple clicks.\n",
              "          quickchartButtonEl.classList.add('colab-df-spinner');\n",
              "          try {\n",
              "            const charts = await google.colab.kernel.invokeFunction(\n",
              "                'suggestCharts', [key], {});\n",
              "          } catch (error) {\n",
              "            console.error('Error during call to suggestCharts:', error);\n",
              "          }\n",
              "          quickchartButtonEl.classList.remove('colab-df-spinner');\n",
              "          quickchartButtonEl.classList.add('colab-df-quickchart-complete');\n",
              "        }\n",
              "        (() => {\n",
              "          let quickchartButtonEl =\n",
              "            document.querySelector('#df-b110895c-bc38-4480-a632-c8d56eea8ad8 button');\n",
              "          quickchartButtonEl.style.display =\n",
              "            google.colab.kernel.accessAllowed ? 'block' : 'none';\n",
              "        })();\n",
              "      </script>\n",
              "    </div>\n",
              "\n",
              "  <div id=\"id_0a96f7e3-107d-4769-b82b-e9dfabf8fec6\">\n",
              "    <style>\n",
              "      .colab-df-generate {\n",
              "        background-color: #E8F0FE;\n",
              "        border: none;\n",
              "        border-radius: 50%;\n",
              "        cursor: pointer;\n",
              "        display: none;\n",
              "        fill: #1967D2;\n",
              "        height: 32px;\n",
              "        padding: 0 0 0 0;\n",
              "        width: 32px;\n",
              "      }\n",
              "\n",
              "      .colab-df-generate:hover {\n",
              "        background-color: #E2EBFA;\n",
              "        box-shadow: 0px 1px 2px rgba(60, 64, 67, 0.3), 0px 1px 3px 1px rgba(60, 64, 67, 0.15);\n",
              "        fill: #174EA6;\n",
              "      }\n",
              "\n",
              "      [theme=dark] .colab-df-generate {\n",
              "        background-color: #3B4455;\n",
              "        fill: #D2E3FC;\n",
              "      }\n",
              "\n",
              "      [theme=dark] .colab-df-generate:hover {\n",
              "        background-color: #434B5C;\n",
              "        box-shadow: 0px 1px 3px 1px rgba(0, 0, 0, 0.15);\n",
              "        filter: drop-shadow(0px 1px 2px rgba(0, 0, 0, 0.3));\n",
              "        fill: #FFFFFF;\n",
              "      }\n",
              "    </style>\n",
              "    <button class=\"colab-df-generate\" onclick=\"generateWithVariable('df_items')\"\n",
              "            title=\"Generate code using this dataframe.\"\n",
              "            style=\"display:none;\">\n",
              "\n",
              "  <svg xmlns=\"http://www.w3.org/2000/svg\" height=\"24px\"viewBox=\"0 0 24 24\"\n",
              "       width=\"24px\">\n",
              "    <path d=\"M7,19H8.4L18.45,9,17,7.55,7,17.6ZM5,21V16.75L18.45,3.32a2,2,0,0,1,2.83,0l1.4,1.43a1.91,1.91,0,0,1,.58,1.4,1.91,1.91,0,0,1-.58,1.4L9.25,21ZM18.45,9,17,7.55Zm-12,3A5.31,5.31,0,0,0,4.9,8.1,5.31,5.31,0,0,0,1,6.5,5.31,5.31,0,0,0,4.9,4.9,5.31,5.31,0,0,0,6.5,1,5.31,5.31,0,0,0,8.1,4.9,5.31,5.31,0,0,0,12,6.5,5.46,5.46,0,0,0,6.5,12Z\"/>\n",
              "  </svg>\n",
              "    </button>\n",
              "    <script>\n",
              "      (() => {\n",
              "      const buttonEl =\n",
              "        document.querySelector('#id_0a96f7e3-107d-4769-b82b-e9dfabf8fec6 button.colab-df-generate');\n",
              "      buttonEl.style.display =\n",
              "        google.colab.kernel.accessAllowed ? 'block' : 'none';\n",
              "\n",
              "      buttonEl.onclick = () => {\n",
              "        google.colab.notebook.generateWithVariable('df_items');\n",
              "      }\n",
              "      })();\n",
              "    </script>\n",
              "  </div>\n",
              "\n",
              "    </div>\n",
              "  </div>\n"
            ],
            "application/vnd.google.colaboratory.intrinsic+json": {
              "type": "dataframe",
              "variable_name": "df_items",
              "summary": "{\n  \"name\": \"df_items\",\n  \"rows\": 77833,\n  \"fields\": [\n    {\n      \"column\": \"parent_asin\",\n      \"properties\": {\n        \"dtype\": \"string\",\n        \"num_unique_values\": 77833,\n        \"samples\": [\n          \"B07G8H3XR2\",\n          \"B076ZSWW5D\",\n          \"B07T2JTYZG\"\n        ],\n        \"semantic_type\": \"\",\n        \"description\": \"\"\n      }\n    },\n    {\n      \"column\": \"main_category\",\n      \"properties\": {\n        \"dtype\": \"category\",\n        \"num_unique_values\": 8,\n        \"samples\": [\n          \"Premium Beauty\",\n          \"Gift Cards\",\n          \"All Beauty\"\n        ],\n        \"semantic_type\": \"\",\n        \"description\": \"\"\n      }\n    },\n    {\n      \"column\": \"title\",\n      \"properties\": {\n        \"dtype\": \"string\",\n        \"num_unique_values\": 75867,\n        \"samples\": [\n          \"Zener ESP - Train & Test your Intuition!\",\n          \"G4A: Sevens Premium\",\n          \"Foot Rocker - Calf, Ankle & Foot Stretcher - Improve Flexibility, Mobility and Range of Motion for Pain Caused by Plantar Fasciitis, Achilles Tendonitis and Tight Calves (Gray)\"\n        ],\n        \"semantic_type\": \"\",\n        \"description\": \"\"\n      }\n    },\n    {\n      \"column\": \"average_rating\",\n      \"properties\": {\n        \"dtype\": \"number\",\n        \"std\": 0.614010554580337,\n        \"min\": 1.0,\n        \"max\": 5.0,\n        \"num_unique_values\": 41,\n        \"samples\": [\n          2.5,\n          3.8,\n          4.3\n        ],\n        \"semantic_type\": \"\",\n        \"description\": \"\"\n      }\n    },\n    {\n      \"column\": \"rating_number\",\n      \"properties\": {\n        \"dtype\": \"number\",\n        \"std\": 12032.174227903872,\n        \"min\": 1.0,\n        \"max\": 1898759.0,\n        \"num_unique_values\": 3613,\n        \"samples\": [\n          776.0,\n          2981.0,\n          186.0\n        ],\n        \"semantic_type\": \"\",\n        \"description\": \"\"\n      }\n    },\n    {\n      \"column\": \"price\",\n      \"properties\": {\n        \"dtype\": \"number\",\n        \"std\": 26.52578440179408,\n        \"min\": 0.0,\n        \"max\": 2325.0,\n        \"num_unique_values\": 2136,\n        \"samples\": [\n          35.32,\n          7.8,\n          14.73\n        ],\n        \"semantic_type\": \"\",\n        \"description\": \"\"\n      }\n    },\n    {\n      \"column\": \"store\",\n      \"properties\": {\n        \"dtype\": \"category\",\n        \"num_unique_values\": 33713,\n        \"samples\": [\n          \"Niceshoes\",\n          \"SMAEL\",\n          \"WordWeb Software\"\n        ],\n        \"semantic_type\": \"\",\n        \"description\": \"\"\n      }\n    },\n    {\n      \"column\": \"features\",\n      \"properties\": {\n        \"dtype\": \"string\",\n        \"num_unique_values\": 51521,\n        \"samples\": [\n          \"['3 free test pages' 'Low worldwide rates' 'Easy to use']\",\n          \"['just 3 MB in size' 'convenient game control' 'completely free of charge']\",\n          \"['Almost 1000 square miles of terrain'\\n '5 cities to explore and choose job from' '6 unique locomotives'\\n '14 detailed cars (3 passenger and 11 freight)'\\n 'Locomotives and cars damage system'\\n 'Locomotive cabs with interactive levers and gauges'\\n 'Dynamic weather and day/night system'\\n 'Other trains and traffic on roads' 'Photo-realistic graphics'\\n 'Advanced signaling and speed limit systems']\"\n        ],\n        \"semantic_type\": \"\",\n        \"description\": \"\"\n      }\n    },\n    {\n      \"column\": \"description\",\n      \"properties\": {\n        \"dtype\": \"string\",\n        \"num_unique_values\": 53857,\n        \"samples\": [\n          \"['4 CDS ARE IN ORIGINAL BOX LIKE NEW THEY HAVE NO SCRATCH, MISSING ONE CD,. THE BOX CONTAIN 4 CDS INSTEAD OF FIVE.MISSING ALGEBRA 2 CD.']\",\n          \"['Welcome to The Tribez Kids game where boys and girls can adopt and take care of virtual pets from the Stone Age! Baby dinosaur Dino, tiny beaver Justin, cute mammoth Sophie and tiger girl Sarah are ready to play!\\u00b7 TAKE CARE OF YOUR PETS \\u00b7Keep an eye on your little animals\\u2019 stats and make sure to feed and bathe them on time! Sing them to sleep! Dress up your tiny pets in cute and crazy outfits and add cool accessories! Wow, now the baby animals feel super stylish!\\u00b7 BUILD & DECORATE \\u00b7Get creative and make your virtual pets\\u2019 houses cute and cozy! Build DIY house decor, paint, fix and make everything look pretty! Play all the 14 mini games with your new pet friends!\\u00b7 PLAY FUN MINI GAMES \\u00b7Keep your little pets entertained! Play fun memory games and hide and seek! Learn to play musical instruments, dance and draw! Solve puzzles and go underwater treasure hunting!- - - - - - - - - - - - - - - - - - - - - - - -About TutoTOONS Games for KidsCrafted and play-tested with kids and toddlers, TutoTOONS games foster kids\\u2019 creativity and help them learn while playing the games they love. Fun and educational TutoTOONS games strive to bring meaningful and safe mobile experience to millions of children worldwide.Important Message to ParentsThis app is free to download and play, but there are certain in-game items that may be purchased for real money. By downloading this app you agree to TutoTOONS Privacy Policy and Terms of Use.Discover More Fun with TutoTOONS!\\u00b7 Subscribe to our YouTube channel: https://www.youtube.com/c/tutotoonsofficial\\u00b7 Learn more about us: https://tutotoons.com\\u00b7 Read our blog: https://blog.tutotoons.com']\",\n          \"[\\\"Delicious Vegetarian Tasty Recipes app contains a collection of vegetarian recipes with proper and step by step cooking preparation. With Delicious Vegetarian Tasty Recipes app you can search for and find thousands of your favorite vegetarian and vegeterian recipes.Tasty vegetarian app contains a variety of tasty recipes like stir fry recipes, roast recipes, food fusion, European Foods, american recipes & American dishes & chops recipes. Get the tasty food & vegetarian cookbook app follow the recipe preparation with step by step cooking videos and with required ingredients.Some of Delicious Vegetarian Tasty Recipes Categories:Vegetarian appetizersVegetarian DinnerVegetarian BreakfastVegetarian DessertsVegetarian SnakeVegetarian LunchVegetarian RecipesVegetable Curry RecipesHealthy vegetarian recipesvegetarian foodtasty vegetarianhealthy lunch ideasvegetarian cheesevegetarian diettasty tastyvegetarian dessertstasty food recipesvegetarian fried riceTasty Vegetarian Recipesvegetarian instant ramenvegetarian keto recipesvegetarian keto dietvegetarian meal ideastasty tasty recipesvegetarian one pot mealsvegetarian breakfastvegetarian chilivegetarian chili slow cookerwhole foodwhole foodsindian vegetarian recipesturkish receipeveggie recipesvegetarian crockpot recipesvegetarian recipes suscriptionvegetarian mealsveg recipes of indiavegetarian appetizersvegetarian alfredovegetarian asian recipestasty vegetarianstasty vegetarian meal preptasty vegetarian videosvegetarian cookingtasty zucchini noodlestasty yummiesbuzzfeed - tastyvegetarian chili recipesveg recipevegetarian recipesSloppy Joesvegeterianthai curryveggie grillvegetable recipesvegetarian-restaurantsdelicious vegetarian recipesvegetarian paleo recipesplantbased recipesvegetarian healthgrowing foodeasy vegetarian recipesTasty healthy Recipesvegetarian diet plancookbook vegetarianvegetarianadaniel fast recipesvegetariervegetarian meal planvegetarischdieta vegetarianais it vegetarianCalzonesvegetarian dinner recipesTasty Demaisvegetarian cooktasty vegetarian tacosProper Tastytasty vegetarianoCheese SandwichesGrilled CheeseHot DogsTurkey SandwichesChicken BurgersLamb BurgersTurkey BurgersVeggie BurgersBeef buzz feed PizzaChicken PizzaPizza CrustsPizza Sauce buzzfeedVegetable PizzaBeef TenderloinBrisket buzz feedLeg of LambSlow cooker RoastsRib RoastFilet MignonFish SteaksFlank by buzzfeedLamb ChopsRib-Eye SteakRound SteakSirloinStrip Steak by buzzfeedBeef Stir FryChicken Stir FryStir Fry buzz feedSeafood Stir FryBeef SandwichesChicken SandwichesHot Dogs by buzzfeedsBeef Stroganoff RecipePotato Croquette RecipeHow To Make Mini Savoury CroissantsHow to prepare a French LunchHow to prepare a French SaladHow to make Vinaigrette buzzfeedHow to make French Crepes buzz feedFrench Salad IngredientsMaking A French OmeletteHow to make French Biscuits- SablesHow To Make French PancakesBlanc-Manger Recipe (Coconut Flan)Quiche Lorraine RecipeProvencal Pie with tuna and tomatoesBechamel Sauce with mushroomsCaramelised Apples Cake RecipeTarte Tatin RecipeBeef Ragout Recipe Brioche Recipe buzzfeedChicken Stew RecipeOlive Oil ToastHachis Parmentier (shaper's Pie)Beef StroganoffBeef WellingtonCaesar SaladDelmonico Steak (and Delmonico Potatoes)Eggs Benedict buzzfeedWaldorf SaladPeach Melba buzzfeedLobster Newburgh buzz feedLauki ke kofteNote : This is not an official App of Adrian Gee or Vegetarian Tastebuds's YouTube Channel, its just a little work from the die hard fan of it.DISCLAIMER:All the videos included in the app are public, they are hosted on YouTube. We only allows video streaming & to share YouTube links. We don't allow to download any content.keep calm , Download Delicious Vegetarian Tasty Recipes & Have Fun.\\\"]\"\n        ],\n        \"semantic_type\": \"\",\n        \"description\": \"\"\n      }\n    },\n    {\n      \"column\": \"images\",\n      \"properties\": {\n        \"dtype\": \"string\",\n        \"num_unique_values\": 76714,\n        \"samples\": [\n          \"{'hi_res': array([None], dtype=object), 'large': array(['https://m.media-amazon.com/images/I/310tpToaMDL.jpg'],\\n      dtype=object), 'thumb': array(['https://m.media-amazon.com/images/I/310tpToaMDL._SS40_.jpg'],\\n      dtype=object), 'variant': array(['MAIN'], dtype=object)}\",\n          \"{'hi_res': array([None, None, None, None], dtype=object), 'large': array(['https://m.media-amazon.com/images/I/A16IRChGesL.png',\\n       'https://m.media-amazon.com/images/I/A1uZ7m6idmL.png',\\n       'https://m.media-amazon.com/images/I/71ggBS8tNQL.png',\\n       'https://m.media-amazon.com/images/I/71DvL2boqHL.png'],\\n      dtype=object), 'thumb': array([None, None, None, None], dtype=object), 'variant': array(['MAIN', 'PT01', 'PT02', 'PT03'], dtype=object)}\",\n          \"{'hi_res': array(['https://m.media-amazon.com/images/I/71006S38CCS._AC_SL1438_.jpg'],\\n      dtype=object), 'large': array(['https://m.media-amazon.com/images/I/519pi+S14RL._AC_.jpg'],\\n      dtype=object), 'thumb': array(['https://m.media-amazon.com/images/I/519pi+S14RL._AC_SR38,50_.jpg'],\\n      dtype=object), 'variant': array(['MAIN'], dtype=object)}\"\n        ],\n        \"semantic_type\": \"\",\n        \"description\": \"\"\n      }\n    },\n    {\n      \"column\": \"categories\",\n      \"properties\": {\n        \"dtype\": \"category\",\n        \"num_unique_values\": 214,\n        \"samples\": [\n          \"['Software' 'Photography & Graphic Design' 'Photography']\",\n          \"['Software' 'Brands' 'McAfee' 'PC Performance']\",\n          \"['Software' 'Education & Reference' 'Test Preparation']\"\n        ],\n        \"semantic_type\": \"\",\n        \"description\": \"\"\n      }\n    },\n    {\n      \"column\": \"image_count\",\n      \"properties\": {\n        \"dtype\": \"number\",\n        \"std\": 7,\n        \"min\": 0,\n        \"max\": 288,\n        \"num_unique_values\": 58,\n        \"samples\": [\n          27,\n          4,\n          39\n        ],\n        \"semantic_type\": \"\",\n        \"description\": \"\"\n      }\n    },\n    {\n      \"column\": \"has_images\",\n      \"properties\": {\n        \"dtype\": \"boolean\",\n        \"num_unique_values\": 2,\n        \"samples\": [\n          false,\n          true\n        ],\n        \"semantic_type\": \"\",\n        \"description\": \"\"\n      }\n    },\n    {\n      \"column\": \"image_urls\",\n      \"properties\": {\n        \"dtype\": \"string\",\n        \"num_unique_values\": 76713,\n        \"samples\": [\n          \"['https://m.media-amazon.com/images/I/71ap7i2ntVL.jpg', 'https://m.media-amazon.com/images/I/813185JJe8L.jpg', 'https://m.media-amazon.com/images/I/717ldwufcML.jpg', 'https://m.media-amazon.com/images/I/41w7vACoX9L.jpg']\",\n          \"['https://m.media-amazon.com/images/I/512M6i0vtFL._AC_.jpg', 'https://m.media-amazon.com/images/I/512M6i0vtFL._AC_SR38,50_.jpg']\"\n        ],\n        \"semantic_type\": \"\",\n        \"description\": \"\"\n      }\n    },\n    {\n      \"column\": \"category\",\n      \"properties\": {\n        \"dtype\": \"category\",\n        \"num_unique_values\": 3,\n        \"samples\": [\n          \"All_Beauty\",\n          \"Health_and_Personal_Care\"\n        ],\n        \"semantic_type\": \"\",\n        \"description\": \"\"\n      }\n    }\n  ]\n}"
            }
          },
          "metadata": {},
          "execution_count": 42
        }
      ]
    },
    {
      "cell_type": "code",
      "source": [
        "df=df_items.copy()"
      ],
      "metadata": {
        "id": "kltyT8Ql3tOU"
      },
      "execution_count": null,
      "outputs": []
    },
    {
      "cell_type": "code",
      "execution_count": null,
      "metadata": {
        "colab": {
          "base_uri": "https://localhost:8080/",
          "height": 706
        },
        "id": "yQ0KSgb5O7xN",
        "outputId": "b6a1b13f-051d-4ea8-a5eb-9e460038d65c"
      },
      "outputs": [
        {
          "output_type": "stream",
          "name": "stdout",
          "text": [
            "<class 'pandas.core.frame.DataFrame'>\n",
            "RangeIndex: 77833 entries, 0 to 77832\n",
            "Data columns (total 15 columns):\n",
            " #   Column          Non-Null Count  Dtype  \n",
            "---  ------          --------------  -----  \n",
            " 0   parent_asin     77833 non-null  object \n",
            " 1   main_category   77720 non-null  object \n",
            " 2   title           77830 non-null  object \n",
            " 3   average_rating  77833 non-null  float64\n",
            " 4   rating_number   76170 non-null  float64\n",
            " 5   price           50162 non-null  float64\n",
            " 6   store           75916 non-null  object \n",
            " 7   features        77833 non-null  object \n",
            " 8   description     77833 non-null  object \n",
            " 9   images          77833 non-null  object \n",
            " 10  categories      77833 non-null  object \n",
            " 11  image_count     77833 non-null  int64  \n",
            " 12  has_images      77833 non-null  bool   \n",
            " 13  image_urls      77833 non-null  object \n",
            " 14  category        77833 non-null  object \n",
            "dtypes: bool(1), float64(3), int64(1), object(10)\n",
            "memory usage: 8.4+ MB\n"
          ]
        },
        {
          "output_type": "execute_result",
          "data": {
            "text/plain": [
              "       average_rating  rating_number         price   image_count\n",
              "count    77833.000000   7.617000e+04  50162.000000  77833.000000\n",
              "mean         3.620678   6.739909e+02      4.828681      9.315830\n",
              "std          0.614011   1.203217e+04     26.525784      7.129278\n",
              "min          1.000000   1.000000e+00      0.000000      0.000000\n",
              "25%          3.200000   1.500000e+01      0.000000      4.000000\n",
              "50%          3.600000   4.200000e+01      0.000000      6.000000\n",
              "75%          4.100000   1.430000e+02      0.990000     12.000000\n",
              "max          5.000000   1.898759e+06   2325.000000    288.000000"
            ],
            "text/html": [
              "\n",
              "  <div id=\"df-37200ef8-c866-4839-ad19-d2635671cee5\" class=\"colab-df-container\">\n",
              "    <div>\n",
              "<style scoped>\n",
              "    .dataframe tbody tr th:only-of-type {\n",
              "        vertical-align: middle;\n",
              "    }\n",
              "\n",
              "    .dataframe tbody tr th {\n",
              "        vertical-align: top;\n",
              "    }\n",
              "\n",
              "    .dataframe thead th {\n",
              "        text-align: right;\n",
              "    }\n",
              "</style>\n",
              "<table border=\"1\" class=\"dataframe\">\n",
              "  <thead>\n",
              "    <tr style=\"text-align: right;\">\n",
              "      <th></th>\n",
              "      <th>average_rating</th>\n",
              "      <th>rating_number</th>\n",
              "      <th>price</th>\n",
              "      <th>image_count</th>\n",
              "    </tr>\n",
              "  </thead>\n",
              "  <tbody>\n",
              "    <tr>\n",
              "      <th>count</th>\n",
              "      <td>77833.000000</td>\n",
              "      <td>7.617000e+04</td>\n",
              "      <td>50162.000000</td>\n",
              "      <td>77833.000000</td>\n",
              "    </tr>\n",
              "    <tr>\n",
              "      <th>mean</th>\n",
              "      <td>3.620678</td>\n",
              "      <td>6.739909e+02</td>\n",
              "      <td>4.828681</td>\n",
              "      <td>9.315830</td>\n",
              "    </tr>\n",
              "    <tr>\n",
              "      <th>std</th>\n",
              "      <td>0.614011</td>\n",
              "      <td>1.203217e+04</td>\n",
              "      <td>26.525784</td>\n",
              "      <td>7.129278</td>\n",
              "    </tr>\n",
              "    <tr>\n",
              "      <th>min</th>\n",
              "      <td>1.000000</td>\n",
              "      <td>1.000000e+00</td>\n",
              "      <td>0.000000</td>\n",
              "      <td>0.000000</td>\n",
              "    </tr>\n",
              "    <tr>\n",
              "      <th>25%</th>\n",
              "      <td>3.200000</td>\n",
              "      <td>1.500000e+01</td>\n",
              "      <td>0.000000</td>\n",
              "      <td>4.000000</td>\n",
              "    </tr>\n",
              "    <tr>\n",
              "      <th>50%</th>\n",
              "      <td>3.600000</td>\n",
              "      <td>4.200000e+01</td>\n",
              "      <td>0.000000</td>\n",
              "      <td>6.000000</td>\n",
              "    </tr>\n",
              "    <tr>\n",
              "      <th>75%</th>\n",
              "      <td>4.100000</td>\n",
              "      <td>1.430000e+02</td>\n",
              "      <td>0.990000</td>\n",
              "      <td>12.000000</td>\n",
              "    </tr>\n",
              "    <tr>\n",
              "      <th>max</th>\n",
              "      <td>5.000000</td>\n",
              "      <td>1.898759e+06</td>\n",
              "      <td>2325.000000</td>\n",
              "      <td>288.000000</td>\n",
              "    </tr>\n",
              "  </tbody>\n",
              "</table>\n",
              "</div>\n",
              "    <div class=\"colab-df-buttons\">\n",
              "\n",
              "  <div class=\"colab-df-container\">\n",
              "    <button class=\"colab-df-convert\" onclick=\"convertToInteractive('df-37200ef8-c866-4839-ad19-d2635671cee5')\"\n",
              "            title=\"Convert this dataframe to an interactive table.\"\n",
              "            style=\"display:none;\">\n",
              "\n",
              "  <svg xmlns=\"http://www.w3.org/2000/svg\" height=\"24px\" viewBox=\"0 -960 960 960\">\n",
              "    <path d=\"M120-120v-720h720v720H120Zm60-500h600v-160H180v160Zm220 220h160v-160H400v160Zm0 220h160v-160H400v160ZM180-400h160v-160H180v160Zm440 0h160v-160H620v160ZM180-180h160v-160H180v160Zm440 0h160v-160H620v160Z\"/>\n",
              "  </svg>\n",
              "    </button>\n",
              "\n",
              "  <style>\n",
              "    .colab-df-container {\n",
              "      display:flex;\n",
              "      gap: 12px;\n",
              "    }\n",
              "\n",
              "    .colab-df-convert {\n",
              "      background-color: #E8F0FE;\n",
              "      border: none;\n",
              "      border-radius: 50%;\n",
              "      cursor: pointer;\n",
              "      display: none;\n",
              "      fill: #1967D2;\n",
              "      height: 32px;\n",
              "      padding: 0 0 0 0;\n",
              "      width: 32px;\n",
              "    }\n",
              "\n",
              "    .colab-df-convert:hover {\n",
              "      background-color: #E2EBFA;\n",
              "      box-shadow: 0px 1px 2px rgba(60, 64, 67, 0.3), 0px 1px 3px 1px rgba(60, 64, 67, 0.15);\n",
              "      fill: #174EA6;\n",
              "    }\n",
              "\n",
              "    .colab-df-buttons div {\n",
              "      margin-bottom: 4px;\n",
              "    }\n",
              "\n",
              "    [theme=dark] .colab-df-convert {\n",
              "      background-color: #3B4455;\n",
              "      fill: #D2E3FC;\n",
              "    }\n",
              "\n",
              "    [theme=dark] .colab-df-convert:hover {\n",
              "      background-color: #434B5C;\n",
              "      box-shadow: 0px 1px 3px 1px rgba(0, 0, 0, 0.15);\n",
              "      filter: drop-shadow(0px 1px 2px rgba(0, 0, 0, 0.3));\n",
              "      fill: #FFFFFF;\n",
              "    }\n",
              "  </style>\n",
              "\n",
              "    <script>\n",
              "      const buttonEl =\n",
              "        document.querySelector('#df-37200ef8-c866-4839-ad19-d2635671cee5 button.colab-df-convert');\n",
              "      buttonEl.style.display =\n",
              "        google.colab.kernel.accessAllowed ? 'block' : 'none';\n",
              "\n",
              "      async function convertToInteractive(key) {\n",
              "        const element = document.querySelector('#df-37200ef8-c866-4839-ad19-d2635671cee5');\n",
              "        const dataTable =\n",
              "          await google.colab.kernel.invokeFunction('convertToInteractive',\n",
              "                                                    [key], {});\n",
              "        if (!dataTable) return;\n",
              "\n",
              "        const docLinkHtml = 'Like what you see? Visit the ' +\n",
              "          '<a target=\"_blank\" href=https://colab.research.google.com/notebooks/data_table.ipynb>data table notebook</a>'\n",
              "          + ' to learn more about interactive tables.';\n",
              "        element.innerHTML = '';\n",
              "        dataTable['output_type'] = 'display_data';\n",
              "        await google.colab.output.renderOutput(dataTable, element);\n",
              "        const docLink = document.createElement('div');\n",
              "        docLink.innerHTML = docLinkHtml;\n",
              "        element.appendChild(docLink);\n",
              "      }\n",
              "    </script>\n",
              "  </div>\n",
              "\n",
              "\n",
              "    <div id=\"df-185a87d8-41a4-4991-a5cc-765bccd2d5a5\">\n",
              "      <button class=\"colab-df-quickchart\" onclick=\"quickchart('df-185a87d8-41a4-4991-a5cc-765bccd2d5a5')\"\n",
              "                title=\"Suggest charts\"\n",
              "                style=\"display:none;\">\n",
              "\n",
              "<svg xmlns=\"http://www.w3.org/2000/svg\" height=\"24px\"viewBox=\"0 0 24 24\"\n",
              "     width=\"24px\">\n",
              "    <g>\n",
              "        <path d=\"M19 3H5c-1.1 0-2 .9-2 2v14c0 1.1.9 2 2 2h14c1.1 0 2-.9 2-2V5c0-1.1-.9-2-2-2zM9 17H7v-7h2v7zm4 0h-2V7h2v10zm4 0h-2v-4h2v4z\"/>\n",
              "    </g>\n",
              "</svg>\n",
              "      </button>\n",
              "\n",
              "<style>\n",
              "  .colab-df-quickchart {\n",
              "      --bg-color: #E8F0FE;\n",
              "      --fill-color: #1967D2;\n",
              "      --hover-bg-color: #E2EBFA;\n",
              "      --hover-fill-color: #174EA6;\n",
              "      --disabled-fill-color: #AAA;\n",
              "      --disabled-bg-color: #DDD;\n",
              "  }\n",
              "\n",
              "  [theme=dark] .colab-df-quickchart {\n",
              "      --bg-color: #3B4455;\n",
              "      --fill-color: #D2E3FC;\n",
              "      --hover-bg-color: #434B5C;\n",
              "      --hover-fill-color: #FFFFFF;\n",
              "      --disabled-bg-color: #3B4455;\n",
              "      --disabled-fill-color: #666;\n",
              "  }\n",
              "\n",
              "  .colab-df-quickchart {\n",
              "    background-color: var(--bg-color);\n",
              "    border: none;\n",
              "    border-radius: 50%;\n",
              "    cursor: pointer;\n",
              "    display: none;\n",
              "    fill: var(--fill-color);\n",
              "    height: 32px;\n",
              "    padding: 0;\n",
              "    width: 32px;\n",
              "  }\n",
              "\n",
              "  .colab-df-quickchart:hover {\n",
              "    background-color: var(--hover-bg-color);\n",
              "    box-shadow: 0 1px 2px rgba(60, 64, 67, 0.3), 0 1px 3px 1px rgba(60, 64, 67, 0.15);\n",
              "    fill: var(--button-hover-fill-color);\n",
              "  }\n",
              "\n",
              "  .colab-df-quickchart-complete:disabled,\n",
              "  .colab-df-quickchart-complete:disabled:hover {\n",
              "    background-color: var(--disabled-bg-color);\n",
              "    fill: var(--disabled-fill-color);\n",
              "    box-shadow: none;\n",
              "  }\n",
              "\n",
              "  .colab-df-spinner {\n",
              "    border: 2px solid var(--fill-color);\n",
              "    border-color: transparent;\n",
              "    border-bottom-color: var(--fill-color);\n",
              "    animation:\n",
              "      spin 1s steps(1) infinite;\n",
              "  }\n",
              "\n",
              "  @keyframes spin {\n",
              "    0% {\n",
              "      border-color: transparent;\n",
              "      border-bottom-color: var(--fill-color);\n",
              "      border-left-color: var(--fill-color);\n",
              "    }\n",
              "    20% {\n",
              "      border-color: transparent;\n",
              "      border-left-color: var(--fill-color);\n",
              "      border-top-color: var(--fill-color);\n",
              "    }\n",
              "    30% {\n",
              "      border-color: transparent;\n",
              "      border-left-color: var(--fill-color);\n",
              "      border-top-color: var(--fill-color);\n",
              "      border-right-color: var(--fill-color);\n",
              "    }\n",
              "    40% {\n",
              "      border-color: transparent;\n",
              "      border-right-color: var(--fill-color);\n",
              "      border-top-color: var(--fill-color);\n",
              "    }\n",
              "    60% {\n",
              "      border-color: transparent;\n",
              "      border-right-color: var(--fill-color);\n",
              "    }\n",
              "    80% {\n",
              "      border-color: transparent;\n",
              "      border-right-color: var(--fill-color);\n",
              "      border-bottom-color: var(--fill-color);\n",
              "    }\n",
              "    90% {\n",
              "      border-color: transparent;\n",
              "      border-bottom-color: var(--fill-color);\n",
              "    }\n",
              "  }\n",
              "</style>\n",
              "\n",
              "      <script>\n",
              "        async function quickchart(key) {\n",
              "          const quickchartButtonEl =\n",
              "            document.querySelector('#' + key + ' button');\n",
              "          quickchartButtonEl.disabled = true;  // To prevent multiple clicks.\n",
              "          quickchartButtonEl.classList.add('colab-df-spinner');\n",
              "          try {\n",
              "            const charts = await google.colab.kernel.invokeFunction(\n",
              "                'suggestCharts', [key], {});\n",
              "          } catch (error) {\n",
              "            console.error('Error during call to suggestCharts:', error);\n",
              "          }\n",
              "          quickchartButtonEl.classList.remove('colab-df-spinner');\n",
              "          quickchartButtonEl.classList.add('colab-df-quickchart-complete');\n",
              "        }\n",
              "        (() => {\n",
              "          let quickchartButtonEl =\n",
              "            document.querySelector('#df-185a87d8-41a4-4991-a5cc-765bccd2d5a5 button');\n",
              "          quickchartButtonEl.style.display =\n",
              "            google.colab.kernel.accessAllowed ? 'block' : 'none';\n",
              "        })();\n",
              "      </script>\n",
              "    </div>\n",
              "\n",
              "    </div>\n",
              "  </div>\n"
            ],
            "application/vnd.google.colaboratory.intrinsic+json": {
              "type": "dataframe",
              "summary": "{\n  \"name\": \"df\",\n  \"rows\": 8,\n  \"fields\": [\n    {\n      \"column\": \"average_rating\",\n      \"properties\": {\n        \"dtype\": \"number\",\n        \"std\": 27517.05362781171,\n        \"min\": 0.614010554580337,\n        \"max\": 77833.0,\n        \"num_unique_values\": 8,\n        \"samples\": [\n          3.6206776046150093,\n          3.6,\n          77833.0\n        ],\n        \"semantic_type\": \"\",\n        \"description\": \"\"\n      }\n    },\n    {\n      \"column\": \"rating_number\",\n      \"properties\": {\n        \"dtype\": \"number\",\n        \"std\": 667329.0344410434,\n        \"min\": 1.0,\n        \"max\": 1898759.0,\n        \"num_unique_values\": 8,\n        \"samples\": [\n          673.9909413154785,\n          42.0,\n          76170.0\n        ],\n        \"semantic_type\": \"\",\n        \"description\": \"\"\n      }\n    },\n    {\n      \"column\": \"price\",\n      \"properties\": {\n        \"dtype\": \"number\",\n        \"std\": 17634.57401174794,\n        \"min\": 0.0,\n        \"max\": 50162.0,\n        \"num_unique_values\": 6,\n        \"samples\": [\n          50162.0,\n          4.828680873968342,\n          2325.0\n        ],\n        \"semantic_type\": \"\",\n        \"description\": \"\"\n      }\n    },\n    {\n      \"column\": \"image_count\",\n      \"properties\": {\n        \"dtype\": \"number\",\n        \"std\": 27501.809834373416,\n        \"min\": 0.0,\n        \"max\": 77833.0,\n        \"num_unique_values\": 8,\n        \"samples\": [\n          9.315830046381356,\n          6.0,\n          77833.0\n        ],\n        \"semantic_type\": \"\",\n        \"description\": \"\"\n      }\n    }\n  ]\n}"
            }
          },
          "metadata": {},
          "execution_count": 44
        }
      ],
      "source": [
        "df.head(5)\n",
        "df.info()\n",
        "df.describe()"
      ]
    },
    {
      "cell_type": "code",
      "execution_count": null,
      "metadata": {
        "colab": {
          "base_uri": "https://localhost:8080/",
          "height": 554
        },
        "id": "4h1Qb44OQs6o",
        "outputId": "232901fa-e26c-45b9-a0d6-f3aca51688c7"
      },
      "outputs": [
        {
          "output_type": "execute_result",
          "data": {
            "text/plain": [
              "parent_asin       77833\n",
              "main_category         8\n",
              "title             75867\n",
              "average_rating       41\n",
              "rating_number      3613\n",
              "price              2136\n",
              "store             33713\n",
              "features          51521\n",
              "description       53857\n",
              "images            76714\n",
              "categories          214\n",
              "image_count          58\n",
              "has_images            2\n",
              "image_urls        76713\n",
              "category              3\n",
              "dtype: int64"
            ],
            "text/html": [
              "<div>\n",
              "<style scoped>\n",
              "    .dataframe tbody tr th:only-of-type {\n",
              "        vertical-align: middle;\n",
              "    }\n",
              "\n",
              "    .dataframe tbody tr th {\n",
              "        vertical-align: top;\n",
              "    }\n",
              "\n",
              "    .dataframe thead th {\n",
              "        text-align: right;\n",
              "    }\n",
              "</style>\n",
              "<table border=\"1\" class=\"dataframe\">\n",
              "  <thead>\n",
              "    <tr style=\"text-align: right;\">\n",
              "      <th></th>\n",
              "      <th>0</th>\n",
              "    </tr>\n",
              "  </thead>\n",
              "  <tbody>\n",
              "    <tr>\n",
              "      <th>parent_asin</th>\n",
              "      <td>77833</td>\n",
              "    </tr>\n",
              "    <tr>\n",
              "      <th>main_category</th>\n",
              "      <td>8</td>\n",
              "    </tr>\n",
              "    <tr>\n",
              "      <th>title</th>\n",
              "      <td>75867</td>\n",
              "    </tr>\n",
              "    <tr>\n",
              "      <th>average_rating</th>\n",
              "      <td>41</td>\n",
              "    </tr>\n",
              "    <tr>\n",
              "      <th>rating_number</th>\n",
              "      <td>3613</td>\n",
              "    </tr>\n",
              "    <tr>\n",
              "      <th>price</th>\n",
              "      <td>2136</td>\n",
              "    </tr>\n",
              "    <tr>\n",
              "      <th>store</th>\n",
              "      <td>33713</td>\n",
              "    </tr>\n",
              "    <tr>\n",
              "      <th>features</th>\n",
              "      <td>51521</td>\n",
              "    </tr>\n",
              "    <tr>\n",
              "      <th>description</th>\n",
              "      <td>53857</td>\n",
              "    </tr>\n",
              "    <tr>\n",
              "      <th>images</th>\n",
              "      <td>76714</td>\n",
              "    </tr>\n",
              "    <tr>\n",
              "      <th>categories</th>\n",
              "      <td>214</td>\n",
              "    </tr>\n",
              "    <tr>\n",
              "      <th>image_count</th>\n",
              "      <td>58</td>\n",
              "    </tr>\n",
              "    <tr>\n",
              "      <th>has_images</th>\n",
              "      <td>2</td>\n",
              "    </tr>\n",
              "    <tr>\n",
              "      <th>image_urls</th>\n",
              "      <td>76713</td>\n",
              "    </tr>\n",
              "    <tr>\n",
              "      <th>category</th>\n",
              "      <td>3</td>\n",
              "    </tr>\n",
              "  </tbody>\n",
              "</table>\n",
              "</div><br><label><b>dtype:</b> int64</label>"
            ]
          },
          "metadata": {},
          "execution_count": 45
        }
      ],
      "source": [
        "df.nunique()"
      ]
    },
    {
      "cell_type": "code",
      "execution_count": null,
      "metadata": {
        "colab": {
          "base_uri": "https://localhost:8080/",
          "height": 554
        },
        "id": "iZIN-InuPCXW",
        "outputId": "041780f9-ee30-4133-d6c1-6ed2135b2d17"
      },
      "outputs": [
        {
          "output_type": "execute_result",
          "data": {
            "text/plain": [
              "parent_asin           0\n",
              "main_category       113\n",
              "title                 3\n",
              "average_rating        0\n",
              "rating_number      1663\n",
              "price             27671\n",
              "store              1917\n",
              "features              0\n",
              "description           0\n",
              "images                0\n",
              "categories            0\n",
              "image_count           0\n",
              "has_images            0\n",
              "image_urls            0\n",
              "category              0\n",
              "dtype: int64"
            ],
            "text/html": [
              "<div>\n",
              "<style scoped>\n",
              "    .dataframe tbody tr th:only-of-type {\n",
              "        vertical-align: middle;\n",
              "    }\n",
              "\n",
              "    .dataframe tbody tr th {\n",
              "        vertical-align: top;\n",
              "    }\n",
              "\n",
              "    .dataframe thead th {\n",
              "        text-align: right;\n",
              "    }\n",
              "</style>\n",
              "<table border=\"1\" class=\"dataframe\">\n",
              "  <thead>\n",
              "    <tr style=\"text-align: right;\">\n",
              "      <th></th>\n",
              "      <th>0</th>\n",
              "    </tr>\n",
              "  </thead>\n",
              "  <tbody>\n",
              "    <tr>\n",
              "      <th>parent_asin</th>\n",
              "      <td>0</td>\n",
              "    </tr>\n",
              "    <tr>\n",
              "      <th>main_category</th>\n",
              "      <td>113</td>\n",
              "    </tr>\n",
              "    <tr>\n",
              "      <th>title</th>\n",
              "      <td>3</td>\n",
              "    </tr>\n",
              "    <tr>\n",
              "      <th>average_rating</th>\n",
              "      <td>0</td>\n",
              "    </tr>\n",
              "    <tr>\n",
              "      <th>rating_number</th>\n",
              "      <td>1663</td>\n",
              "    </tr>\n",
              "    <tr>\n",
              "      <th>price</th>\n",
              "      <td>27671</td>\n",
              "    </tr>\n",
              "    <tr>\n",
              "      <th>store</th>\n",
              "      <td>1917</td>\n",
              "    </tr>\n",
              "    <tr>\n",
              "      <th>features</th>\n",
              "      <td>0</td>\n",
              "    </tr>\n",
              "    <tr>\n",
              "      <th>description</th>\n",
              "      <td>0</td>\n",
              "    </tr>\n",
              "    <tr>\n",
              "      <th>images</th>\n",
              "      <td>0</td>\n",
              "    </tr>\n",
              "    <tr>\n",
              "      <th>categories</th>\n",
              "      <td>0</td>\n",
              "    </tr>\n",
              "    <tr>\n",
              "      <th>image_count</th>\n",
              "      <td>0</td>\n",
              "    </tr>\n",
              "    <tr>\n",
              "      <th>has_images</th>\n",
              "      <td>0</td>\n",
              "    </tr>\n",
              "    <tr>\n",
              "      <th>image_urls</th>\n",
              "      <td>0</td>\n",
              "    </tr>\n",
              "    <tr>\n",
              "      <th>category</th>\n",
              "      <td>0</td>\n",
              "    </tr>\n",
              "  </tbody>\n",
              "</table>\n",
              "</div><br><label><b>dtype:</b> int64</label>"
            ]
          },
          "metadata": {},
          "execution_count": 46
        }
      ],
      "source": [
        "df.isnull().sum()"
      ]
    },
    {
      "cell_type": "code",
      "execution_count": null,
      "metadata": {
        "colab": {
          "base_uri": "https://localhost:8080/"
        },
        "id": "h-0JItMREjx2",
        "outputId": "51659f5d-c4ef-4bee-dcbe-b382a4baf5c6"
      },
      "outputs": [
        {
          "output_type": "execute_result",
          "data": {
            "text/plain": [
              "[('for', 17031),\n",
              " ('and', 10738),\n",
              " ('hair', 10306),\n",
              " ('with', 7984),\n",
              " ('free', 6663),\n",
              " ('2', 5223),\n",
              " ('pack', 4647),\n",
              " ('3', 4259),\n",
              " ('of', 4230),\n",
              " ('1', 4050),\n",
              " ('nail', 4005),\n",
              " ('the', 3962),\n",
              " ('women', 3828),\n",
              " ('oz', 3128),\n",
              " ('natural', 3020),\n",
              " ('4', 2918),\n",
              " ('black', 2771),\n",
              " ('game', 2628),\n",
              " ('set', 2613),\n",
              " ('brush', 2597)]"
            ]
          },
          "metadata": {},
          "execution_count": 47
        }
      ],
      "source": [
        "from collections import Counter\n",
        "import re\n",
        "\n",
        "all_words = \" \".join(df['title'].dropna()).lower()\n",
        "words = re.findall(r'\\w+', all_words)\n",
        "Counter(words).most_common(20)"
      ]
    },
    {
      "cell_type": "code",
      "execution_count": null,
      "metadata": {
        "colab": {
          "base_uri": "https://localhost:8080/",
          "height": 424
        },
        "id": "5m1o-ELSLxym",
        "outputId": "cf2b878e-e5dd-4cec-a6d1-595680271ab4"
      },
      "outputs": [
        {
          "output_type": "execute_result",
          "data": {
            "text/plain": [
              "(np.float64(-0.5), np.float64(1499.5), np.float64(1499.5), np.float64(-0.5))"
            ]
          },
          "metadata": {},
          "execution_count": 48
        },
        {
          "output_type": "display_data",
          "data": {
            "text/plain": [
              "<Figure size 640x480 with 1 Axes>"
            ],
            "image/png": "[encoded data removed]"
          },
          "metadata": {}
        }
      ],
      "source": [
        "import requests\n",
        "from PIL import Image\n",
        "from io import BytesIO\n",
        "\n",
        "raw = df['image_urls'].dropna().iloc[0]\n",
        "url = raw.strip(\"[]\").replace(\"'\", \"\").split(',')[0].strip()\n",
        "response = requests.get(url)\n",
        "img = Image.open(BytesIO(response.content))\n",
        "plt.imshow(img)\n",
        "plt.axis('off')"
      ]
    },
    {
      "cell_type": "code",
      "source": [
        "df"
      ],
      "metadata": {
        "colab": {
          "base_uri": "https://localhost:8080/",
          "height": 788
        },
        "id": "dcgclORS3_qA",
        "outputId": "bd3a0f91-85c2-4b71-bdc4-ffedb35aa174"
      },
      "execution_count": null,
      "outputs": [
        {
          "output_type": "execute_result",
          "data": {
            "text/plain": [
              "      parent_asin main_category  \\\n",
              "0      B07WFSQXL5    All Beauty   \n",
              "1      B08BV6F6BC    All Beauty   \n",
              "2      B07Z818MLY    All Beauty   \n",
              "3      B071DY8Z4B    All Beauty   \n",
              "4      B0BTLTVR1X    All Beauty   \n",
              "...           ...           ...   \n",
              "77828  B000NE85S2           NaN   \n",
              "77829  B076NZT5VY      Software   \n",
              "77830  B001FSG0TQ           NaN   \n",
              "77831  B0009STM5C      Software   \n",
              "77832  B005ZK91KK      Software   \n",
              "\n",
              "                                                   title  average_rating  \\\n",
              "0      PPY Eyelash Growth Serum – Natural Ingredients...             3.9   \n",
              "1      Wixar Natural Sea Moss Soap - (2 PACK) - Laven...             4.4   \n",
              "2      7 Packs Deep Wave Crochet Hair 22 Inch Deep wa...             3.4   \n",
              "3      BEWAVE Hair Brush Sponge Twist With Comb Hair ...             4.2   \n",
              "4      Zydeco Chop Chop Cajun Seasoning Base, 8 Ounce...             4.7   \n",
              "...                                                  ...             ...   \n",
              "77828                     Quicken Family Lawyer (CD-ROM)             3.5   \n",
              "77829  Ubuntu 16.04 Linux Desktop - 32-Bit 64-Bit Sup...             3.7   \n",
              "77830              The Print Shop: Labels and Logos 2009             2.3   \n",
              "77831  Jumpstart Advanced Kindergarten (PC & Mac) [OL...             3.7   \n",
              "77832  Better Homes and Gardens Landscaping and Deck ...             3.0   \n",
              "\n",
              "       rating_number  price                      store  \\\n",
              "0              114.0    NaN                        PPY   \n",
              "1               41.0    NaN             WIXAR NATURALS   \n",
              "2               10.0    NaN               Yun Mei Hair   \n",
              "3               24.0    NaN                     BEWAVE   \n",
              "4               21.0    NaN                    BORELTH   \n",
              "...              ...    ...                        ...   \n",
              "77828           14.0    NaN         Parsons Technology   \n",
              "77829            4.0    NaN  BrownTech PC System Tools   \n",
              "77830            4.0    NaN                     Encore   \n",
              "77831            4.0    NaN        Knowledge Adventure   \n",
              "77832           19.0    NaN            Chief Architect   \n",
              "\n",
              "                                                features  \\\n",
              "0                                                     []   \n",
              "1                                                     []   \n",
              "2                                                     []   \n",
              "3                                                     []   \n",
              "4      ['All Natural blend of Dehydrated Onion, Dehyd...   \n",
              "...                                                  ...   \n",
              "77828  [\"America's Best-Selling Legal Software!\"\\n 'P...   \n",
              "77829  ['Ubuntu 16.04 Linux on 2 Disc DVD Set 32 Bit ...   \n",
              "77830  ['Drag-and-drop design tools' 'Photo-realistic...   \n",
              "77831  ['This 3-CD set uses a fun animal theme to int...   \n",
              "77832  ['Create the perfect outdoor living space with...   \n",
              "\n",
              "                                             description  \\\n",
              "0                                                     []   \n",
              "1                                                     []   \n",
              "2                                                     []   \n",
              "3                                                     []   \n",
              "4      ['Zydeco Chop Chop is a blend of Dehydrated On...   \n",
              "...                                                  ...   \n",
              "77828  ['86 Forms in 10 categories: Estate Planning (...   \n",
              "77829  ['Ubuntu 16.04 \"Xenial Xerus\" 64-BIT & 32BIT L...   \n",
              "77830  ['Everything you need to create impressive lab...   \n",
              "77831  ['From the Manufacturer'\\n 'The JumpStart Adva...   \n",
              "77832  ['Product description'\\n \"You'll be amazed at ...   \n",
              "\n",
              "                                                  images  \\\n",
              "0      {'hi_res': array(['https://m.media-amazon.com/...   \n",
              "1      {'hi_res': array(['https://m.media-amazon.com/...   \n",
              "2      {'hi_res': array(['https://m.media-amazon.com/...   \n",
              "3      {'hi_res': array(['https://m.media-amazon.com/...   \n",
              "4      {'hi_res': array(['https://m.media-amazon.com/...   \n",
              "...                                                  ...   \n",
              "77828  {'hi_res': array([None], dtype=object), 'large...   \n",
              "77829  {'hi_res': array(['https://m.media-amazon.com/...   \n",
              "77830  {'hi_res': array([None], dtype=object), 'large...   \n",
              "77831  {'hi_res': array([None], dtype=object), 'large...   \n",
              "77832  {'hi_res': array(['https://m.media-amazon.com/...   \n",
              "\n",
              "                                              categories  image_count  \\\n",
              "0                                                     []           27   \n",
              "1                                                     []           21   \n",
              "2                                                     []           21   \n",
              "3                                                     []           17   \n",
              "4                                                     []            3   \n",
              "...                                                  ...          ...   \n",
              "77828           ['Software' 'Business & Office' 'Legal']            2   \n",
              "77829  ['Software' 'Linux' 'Operating Systems & Utili...           18   \n",
              "77830   ['Software' 'Business & Office' 'Office Suites']            2   \n",
              "77831  ['Software' 'Blizzard, Knowledge Adventure & S...            2   \n",
              "77832  ['Software' 'Photography & Graphic Design' 'CA...           13   \n",
              "\n",
              "       has_images                                         image_urls  \\\n",
              "0            True  ['https://m.media-amazon.com/images/I/615N6fkc...   \n",
              "1            True  ['https://m.media-amazon.com/images/I/81ugegqe...   \n",
              "2            True  ['https://m.media-amazon.com/images/I/71aVcpK8...   \n",
              "3            True  ['https://m.media-amazon.com/images/I/61or2jYp...   \n",
              "4            True  ['https://m.media-amazon.com/images/I/71707mY6...   \n",
              "...           ...                                                ...   \n",
              "77828        True  ['https://m.media-amazon.com/images/I/41+rSEEa...   \n",
              "77829        True  ['https://m.media-amazon.com/images/I/71QlusvD...   \n",
              "77830        True  ['https://m.media-amazon.com/images/I/51xSHvST...   \n",
              "77831        True  ['https://m.media-amazon.com/images/I/41YPPRP8...   \n",
              "77832        True  ['https://m.media-amazon.com/images/I/91Q5-pu2...   \n",
              "\n",
              "         category  \n",
              "0      All_Beauty  \n",
              "1      All_Beauty  \n",
              "2      All_Beauty  \n",
              "3      All_Beauty  \n",
              "4      All_Beauty  \n",
              "...           ...  \n",
              "77828    Software  \n",
              "77829    Software  \n",
              "77830    Software  \n",
              "77831    Software  \n",
              "77832    Software  \n",
              "\n",
              "[77833 rows x 15 columns]"
            ],
            "text/html": [
              "\n",
              "  <div id=\"df-5f980419-97d3-43df-9b79-07864341351d\" class=\"colab-df-container\">\n",
              "    <div>\n",
              "<style scoped>\n",
              "    .dataframe tbody tr th:only-of-type {\n",
              "        vertical-align: middle;\n",
              "    }\n",
              "\n",
              "    .dataframe tbody tr th {\n",
              "        vertical-align: top;\n",
              "    }\n",
              "\n",
              "    .dataframe thead th {\n",
              "        text-align: right;\n",
              "    }\n",
              "</style>\n",
              "<table border=\"1\" class=\"dataframe\">\n",
              "  <thead>\n",
              "    <tr style=\"text-align: right;\">\n",
              "      <th></th>\n",
              "      <th>parent_asin</th>\n",
              "      <th>main_category</th>\n",
              "      <th>title</th>\n",
              "      <th>average_rating</th>\n",
              "      <th>rating_number</th>\n",
              "      <th>price</th>\n",
              "      <th>store</th>\n",
              "      <th>features</th>\n",
              "      <th>description</th>\n",
              "      <th>images</th>\n",
              "      <th>categories</th>\n",
              "      <th>image_count</th>\n",
              "      <th>has_images</th>\n",
              "      <th>image_urls</th>\n",
              "      <th>category</th>\n",
              "    </tr>\n",
              "  </thead>\n",
              "  <tbody>\n",
              "    <tr>\n",
              "      <th>0</th>\n",
              "      <td>B07WFSQXL5</td>\n",
              "      <td>All Beauty</td>\n",
              "      <td>PPY Eyelash Growth Serum – Natural Ingredients...</td>\n",
              "      <td>3.9</td>\n",
              "      <td>114.0</td>\n",
              "      <td>NaN</td>\n",
              "      <td>PPY</td>\n",
              "      <td>[]</td>\n",
              "      <td>[]</td>\n",
              "      <td>{'hi_res': array(['https://m.media-amazon.com/...</td>\n",
              "      <td>[]</td>\n",
              "      <td>27</td>\n",
              "      <td>True</td>\n",
              "      <td>['https://m.media-amazon.com/images/I/615N6fkc...</td>\n",
              "      <td>All_Beauty</td>\n",
              "    </tr>\n",
              "    <tr>\n",
              "      <th>1</th>\n",
              "      <td>B08BV6F6BC</td>\n",
              "      <td>All Beauty</td>\n",
              "      <td>Wixar Natural Sea Moss Soap - (2 PACK) - Laven...</td>\n",
              "      <td>4.4</td>\n",
              "      <td>41.0</td>\n",
              "      <td>NaN</td>\n",
              "      <td>WIXAR NATURALS</td>\n",
              "      <td>[]</td>\n",
              "      <td>[]</td>\n",
              "      <td>{'hi_res': array(['https://m.media-amazon.com/...</td>\n",
              "      <td>[]</td>\n",
              "      <td>21</td>\n",
              "      <td>True</td>\n",
              "      <td>['https://m.media-amazon.com/images/I/81ugegqe...</td>\n",
              "      <td>All_Beauty</td>\n",
              "    </tr>\n",
              "    <tr>\n",
              "      <th>2</th>\n",
              "      <td>B07Z818MLY</td>\n",
              "      <td>All Beauty</td>\n",
              "      <td>7 Packs Deep Wave Crochet Hair 22 Inch Deep wa...</td>\n",
              "      <td>3.4</td>\n",
              "      <td>10.0</td>\n",
              "      <td>NaN</td>\n",
              "      <td>Yun Mei Hair</td>\n",
              "      <td>[]</td>\n",
              "      <td>[]</td>\n",
              "      <td>{'hi_res': array(['https://m.media-amazon.com/...</td>\n",
              "      <td>[]</td>\n",
              "      <td>21</td>\n",
              "      <td>True</td>\n",
              "      <td>['https://m.media-amazon.com/images/I/71aVcpK8...</td>\n",
              "      <td>All_Beauty</td>\n",
              "    </tr>\n",
              "    <tr>\n",
              "      <th>3</th>\n",
              "      <td>B071DY8Z4B</td>\n",
              "      <td>All Beauty</td>\n",
              "      <td>BEWAVE Hair Brush Sponge Twist With Comb Hair ...</td>\n",
              "      <td>4.2</td>\n",
              "      <td>24.0</td>\n",
              "      <td>NaN</td>\n",
              "      <td>BEWAVE</td>\n",
              "      <td>[]</td>\n",
              "      <td>[]</td>\n",
              "      <td>{'hi_res': array(['https://m.media-amazon.com/...</td>\n",
              "      <td>[]</td>\n",
              "      <td>17</td>\n",
              "      <td>True</td>\n",
              "      <td>['https://m.media-amazon.com/images/I/61or2jYp...</td>\n",
              "      <td>All_Beauty</td>\n",
              "    </tr>\n",
              "    <tr>\n",
              "      <th>4</th>\n",
              "      <td>B0BTLTVR1X</td>\n",
              "      <td>All Beauty</td>\n",
              "      <td>Zydeco Chop Chop Cajun Seasoning Base, 8 Ounce...</td>\n",
              "      <td>4.7</td>\n",
              "      <td>21.0</td>\n",
              "      <td>NaN</td>\n",
              "      <td>BORELTH</td>\n",
              "      <td>['All Natural blend of Dehydrated Onion, Dehyd...</td>\n",
              "      <td>['Zydeco Chop Chop is a blend of Dehydrated On...</td>\n",
              "      <td>{'hi_res': array(['https://m.media-amazon.com/...</td>\n",
              "      <td>[]</td>\n",
              "      <td>3</td>\n",
              "      <td>True</td>\n",
              "      <td>['https://m.media-amazon.com/images/I/71707mY6...</td>\n",
              "      <td>All_Beauty</td>\n",
              "    </tr>\n",
              "    <tr>\n",
              "      <th>...</th>\n",
              "      <td>...</td>\n",
              "      <td>...</td>\n",
              "      <td>...</td>\n",
              "      <td>...</td>\n",
              "      <td>...</td>\n",
              "      <td>...</td>\n",
              "      <td>...</td>\n",
              "      <td>...</td>\n",
              "      <td>...</td>\n",
              "      <td>...</td>\n",
              "      <td>...</td>\n",
              "      <td>...</td>\n",
              "      <td>...</td>\n",
              "      <td>...</td>\n",
              "      <td>...</td>\n",
              "    </tr>\n",
              "    <tr>\n",
              "      <th>77828</th>\n",
              "      <td>B000NE85S2</td>\n",
              "      <td>NaN</td>\n",
              "      <td>Quicken Family Lawyer (CD-ROM)</td>\n",
              "      <td>3.5</td>\n",
              "      <td>14.0</td>\n",
              "      <td>NaN</td>\n",
              "      <td>Parsons Technology</td>\n",
              "      <td>[\"America's Best-Selling Legal Software!\"\\n 'P...</td>\n",
              "      <td>['86 Forms in 10 categories: Estate Planning (...</td>\n",
              "      <td>{'hi_res': array([None], dtype=object), 'large...</td>\n",
              "      <td>['Software' 'Business &amp; Office' 'Legal']</td>\n",
              "      <td>2</td>\n",
              "      <td>True</td>\n",
              "      <td>['https://m.media-amazon.com/images/I/41+rSEEa...</td>\n",
              "      <td>Software</td>\n",
              "    </tr>\n",
              "    <tr>\n",
              "      <th>77829</th>\n",
              "      <td>B076NZT5VY</td>\n",
              "      <td>Software</td>\n",
              "      <td>Ubuntu 16.04 Linux Desktop - 32-Bit 64-Bit Sup...</td>\n",
              "      <td>3.7</td>\n",
              "      <td>4.0</td>\n",
              "      <td>NaN</td>\n",
              "      <td>BrownTech PC System Tools</td>\n",
              "      <td>['Ubuntu 16.04 Linux on 2 Disc DVD Set 32 Bit ...</td>\n",
              "      <td>['Ubuntu 16.04 \"Xenial Xerus\" 64-BIT &amp; 32BIT L...</td>\n",
              "      <td>{'hi_res': array(['https://m.media-amazon.com/...</td>\n",
              "      <td>['Software' 'Linux' 'Operating Systems &amp; Utili...</td>\n",
              "      <td>18</td>\n",
              "      <td>True</td>\n",
              "      <td>['https://m.media-amazon.com/images/I/71QlusvD...</td>\n",
              "      <td>Software</td>\n",
              "    </tr>\n",
              "    <tr>\n",
              "      <th>77830</th>\n",
              "      <td>B001FSG0TQ</td>\n",
              "      <td>NaN</td>\n",
              "      <td>The Print Shop: Labels and Logos 2009</td>\n",
              "      <td>2.3</td>\n",
              "      <td>4.0</td>\n",
              "      <td>NaN</td>\n",
              "      <td>Encore</td>\n",
              "      <td>['Drag-and-drop design tools' 'Photo-realistic...</td>\n",
              "      <td>['Everything you need to create impressive lab...</td>\n",
              "      <td>{'hi_res': array([None], dtype=object), 'large...</td>\n",
              "      <td>['Software' 'Business &amp; Office' 'Office Suites']</td>\n",
              "      <td>2</td>\n",
              "      <td>True</td>\n",
              "      <td>['https://m.media-amazon.com/images/I/51xSHvST...</td>\n",
              "      <td>Software</td>\n",
              "    </tr>\n",
              "    <tr>\n",
              "      <th>77831</th>\n",
              "      <td>B0009STM5C</td>\n",
              "      <td>Software</td>\n",
              "      <td>Jumpstart Advanced Kindergarten (PC &amp; Mac) [OL...</td>\n",
              "      <td>3.7</td>\n",
              "      <td>4.0</td>\n",
              "      <td>NaN</td>\n",
              "      <td>Knowledge Adventure</td>\n",
              "      <td>['This 3-CD set uses a fun animal theme to int...</td>\n",
              "      <td>['From the Manufacturer'\\n 'The JumpStart Adva...</td>\n",
              "      <td>{'hi_res': array([None], dtype=object), 'large...</td>\n",
              "      <td>['Software' 'Blizzard, Knowledge Adventure &amp; S...</td>\n",
              "      <td>2</td>\n",
              "      <td>True</td>\n",
              "      <td>['https://m.media-amazon.com/images/I/41YPPRP8...</td>\n",
              "      <td>Software</td>\n",
              "    </tr>\n",
              "    <tr>\n",
              "      <th>77832</th>\n",
              "      <td>B005ZK91KK</td>\n",
              "      <td>Software</td>\n",
              "      <td>Better Homes and Gardens Landscaping and Deck ...</td>\n",
              "      <td>3.0</td>\n",
              "      <td>19.0</td>\n",
              "      <td>NaN</td>\n",
              "      <td>Chief Architect</td>\n",
              "      <td>['Create the perfect outdoor living space with...</td>\n",
              "      <td>['Product description'\\n \"You'll be amazed at ...</td>\n",
              "      <td>{'hi_res': array(['https://m.media-amazon.com/...</td>\n",
              "      <td>['Software' 'Photography &amp; Graphic Design' 'CA...</td>\n",
              "      <td>13</td>\n",
              "      <td>True</td>\n",
              "      <td>['https://m.media-amazon.com/images/I/91Q5-pu2...</td>\n",
              "      <td>Software</td>\n",
              "    </tr>\n",
              "  </tbody>\n",
              "</table>\n",
              "<p>77833 rows × 15 columns</p>\n",
              "</div>\n",
              "    <div class=\"colab-df-buttons\">\n",
              "\n",
              "  <div class=\"colab-df-container\">\n",
              "    <button class=\"colab-df-convert\" onclick=\"convertToInteractive('df-5f980419-97d3-43df-9b79-07864341351d')\"\n",
              "            title=\"Convert this dataframe to an interactive table.\"\n",
              "            style=\"display:none;\">\n",
              "\n",
              "  <svg xmlns=\"http://www.w3.org/2000/svg\" height=\"24px\" viewBox=\"0 -960 960 960\">\n",
              "    <path d=\"M120-120v-720h720v720H120Zm60-500h600v-160H180v160Zm220 220h160v-160H400v160Zm0 220h160v-160H400v160ZM180-400h160v-160H180v160Zm440 0h160v-160H620v160ZM180-180h160v-160H180v160Zm440 0h160v-160H620v160Z\"/>\n",
              "  </svg>\n",
              "    </button>\n",
              "\n",
              "  <style>\n",
              "    .colab-df-container {\n",
              "      display:flex;\n",
              "      gap: 12px;\n",
              "    }\n",
              "\n",
              "    .colab-df-convert {\n",
              "      background-color: #E8F0FE;\n",
              "      border: none;\n",
              "      border-radius: 50%;\n",
              "      cursor: pointer;\n",
              "      display: none;\n",
              "      fill: #1967D2;\n",
              "      height: 32px;\n",
              "      padding: 0 0 0 0;\n",
              "      width: 32px;\n",
              "    }\n",
              "\n",
              "    .colab-df-convert:hover {\n",
              "      background-color: #E2EBFA;\n",
              "      box-shadow: 0px 1px 2px rgba(60, 64, 67, 0.3), 0px 1px 3px 1px rgba(60, 64, 67, 0.15);\n",
              "      fill: #174EA6;\n",
              "    }\n",
              "\n",
              "    .colab-df-buttons div {\n",
              "      margin-bottom: 4px;\n",
              "    }\n",
              "\n",
              "    [theme=dark] .colab-df-convert {\n",
              "      background-color: #3B4455;\n",
              "      fill: #D2E3FC;\n",
              "    }\n",
              "\n",
              "    [theme=dark] .colab-df-convert:hover {\n",
              "      background-color: #434B5C;\n",
              "      box-shadow: 0px 1px 3px 1px rgba(0, 0, 0, 0.15);\n",
              "      filter: drop-shadow(0px 1px 2px rgba(0, 0, 0, 0.3));\n",
              "      fill: #FFFFFF;\n",
              "    }\n",
              "  </style>\n",
              "\n",
              "    <script>\n",
              "      const buttonEl =\n",
              "        document.querySelector('#df-5f980419-97d3-43df-9b79-07864341351d button.colab-df-convert');\n",
              "      buttonEl.style.display =\n",
              "        google.colab.kernel.accessAllowed ? 'block' : 'none';\n",
              "\n",
              "      async function convertToInteractive(key) {\n",
              "        const element = document.querySelector('#df-5f980419-97d3-43df-9b79-07864341351d');\n",
              "        const dataTable =\n",
              "          await google.colab.kernel.invokeFunction('convertToInteractive',\n",
              "                                                    [key], {});\n",
              "        if (!dataTable) return;\n",
              "\n",
              "        const docLinkHtml = 'Like what you see? Visit the ' +\n",
              "          '<a target=\"_blank\" href=https://colab.research.google.com/notebooks/data_table.ipynb>data table notebook</a>'\n",
              "          + ' to learn more about interactive tables.';\n",
              "        element.innerHTML = '';\n",
              "        dataTable['output_type'] = 'display_data';\n",
              "        await google.colab.output.renderOutput(dataTable, element);\n",
              "        const docLink = document.createElement('div');\n",
              "        docLink.innerHTML = docLinkHtml;\n",
              "        element.appendChild(docLink);\n",
              "      }\n",
              "    </script>\n",
              "  </div>\n",
              "\n",
              "\n",
              "    <div id=\"df-7ffcfb9d-3593-49a0-a318-36183f82b1d5\">\n",
              "      <button class=\"colab-df-quickchart\" onclick=\"quickchart('df-7ffcfb9d-3593-49a0-a318-36183f82b1d5')\"\n",
              "                title=\"Suggest charts\"\n",
              "                style=\"display:none;\">\n",
              "\n",
              "<svg xmlns=\"http://www.w3.org/2000/svg\" height=\"24px\"viewBox=\"0 0 24 24\"\n",
              "     width=\"24px\">\n",
              "    <g>\n",
              "        <path d=\"M19 3H5c-1.1 0-2 .9-2 2v14c0 1.1.9 2 2 2h14c1.1 0 2-.9 2-2V5c0-1.1-.9-2-2-2zM9 17H7v-7h2v7zm4 0h-2V7h2v10zm4 0h-2v-4h2v4z\"/>\n",
              "    </g>\n",
              "</svg>\n",
              "      </button>\n",
              "\n",
              "<style>\n",
              "  .colab-df-quickchart {\n",
              "      --bg-color: #E8F0FE;\n",
              "      --fill-color: #1967D2;\n",
              "      --hover-bg-color: #E2EBFA;\n",
              "      --hover-fill-color: #174EA6;\n",
              "      --disabled-fill-color: #AAA;\n",
              "      --disabled-bg-color: #DDD;\n",
              "  }\n",
              "\n",
              "  [theme=dark] .colab-df-quickchart {\n",
              "      --bg-color: #3B4455;\n",
              "      --fill-color: #D2E3FC;\n",
              "      --hover-bg-color: #434B5C;\n",
              "      --hover-fill-color: #FFFFFF;\n",
              "      --disabled-bg-color: #3B4455;\n",
              "      --disabled-fill-color: #666;\n",
              "  }\n",
              "\n",
              "  .colab-df-quickchart {\n",
              "    background-color: var(--bg-color);\n",
              "    border: none;\n",
              "    border-radius: 50%;\n",
              "    cursor: pointer;\n",
              "    display: none;\n",
              "    fill: var(--fill-color);\n",
              "    height: 32px;\n",
              "    padding: 0;\n",
              "    width: 32px;\n",
              "  }\n",
              "\n",
              "  .colab-df-quickchart:hover {\n",
              "    background-color: var(--hover-bg-color);\n",
              "    box-shadow: 0 1px 2px rgba(60, 64, 67, 0.3), 0 1px 3px 1px rgba(60, 64, 67, 0.15);\n",
              "    fill: var(--button-hover-fill-color);\n",
              "  }\n",
              "\n",
              "  .colab-df-quickchart-complete:disabled,\n",
              "  .colab-df-quickchart-complete:disabled:hover {\n",
              "    background-color: var(--disabled-bg-color);\n",
              "    fill: var(--disabled-fill-color);\n",
              "    box-shadow: none;\n",
              "  }\n",
              "\n",
              "  .colab-df-spinner {\n",
              "    border: 2px solid var(--fill-color);\n",
              "    border-color: transparent;\n",
              "    border-bottom-color: var(--fill-color);\n",
              "    animation:\n",
              "      spin 1s steps(1) infinite;\n",
              "  }\n",
              "\n",
              "  @keyframes spin {\n",
              "    0% {\n",
              "      border-color: transparent;\n",
              "      border-bottom-color: var(--fill-color);\n",
              "      border-left-color: var(--fill-color);\n",
              "    }\n",
              "    20% {\n",
              "      border-color: transparent;\n",
              "      border-left-color: var(--fill-color);\n",
              "      border-top-color: var(--fill-color);\n",
              "    }\n",
              "    30% {\n",
              "      border-color: transparent;\n",
              "      border-left-color: var(--fill-color);\n",
              "      border-top-color: var(--fill-color);\n",
              "      border-right-color: var(--fill-color);\n",
              "    }\n",
              "    40% {\n",
              "      border-color: transparent;\n",
              "      border-right-color: var(--fill-color);\n",
              "      border-top-color: var(--fill-color);\n",
              "    }\n",
              "    60% {\n",
              "      border-color: transparent;\n",
              "      border-right-color: var(--fill-color);\n",
              "    }\n",
              "    80% {\n",
              "      border-color: transparent;\n",
              "      border-right-color: var(--fill-color);\n",
              "      border-bottom-color: var(--fill-color);\n",
              "    }\n",
              "    90% {\n",
              "      border-color: transparent;\n",
              "      border-bottom-color: var(--fill-color);\n",
              "    }\n",
              "  }\n",
              "</style>\n",
              "\n",
              "      <script>\n",
              "        async function quickchart(key) {\n",
              "          const quickchartButtonEl =\n",
              "            document.querySelector('#' + key + ' button');\n",
              "          quickchartButtonEl.disabled = true;  // To prevent multiple clicks.\n",
              "          quickchartButtonEl.classList.add('colab-df-spinner');\n",
              "          try {\n",
              "            const charts = await google.colab.kernel.invokeFunction(\n",
              "                'suggestCharts', [key], {});\n",
              "          } catch (error) {\n",
              "            console.error('Error during call to suggestCharts:', error);\n",
              "          }\n",
              "          quickchartButtonEl.classList.remove('colab-df-spinner');\n",
              "          quickchartButtonEl.classList.add('colab-df-quickchart-complete');\n",
              "        }\n",
              "        (() => {\n",
              "          let quickchartButtonEl =\n",
              "            document.querySelector('#df-7ffcfb9d-3593-49a0-a318-36183f82b1d5 button');\n",
              "          quickchartButtonEl.style.display =\n",
              "            google.colab.kernel.accessAllowed ? 'block' : 'none';\n",
              "        })();\n",
              "      </script>\n",
              "    </div>\n",
              "\n",
              "  <div id=\"id_e157b5b9-e20a-4392-9f03-18e7c4f41501\">\n",
              "    <style>\n",
              "      .colab-df-generate {\n",
              "        background-color: #E8F0FE;\n",
              "        border: none;\n",
              "        border-radius: 50%;\n",
              "        cursor: pointer;\n",
              "        display: none;\n",
              "        fill: #1967D2;\n",
              "        height: 32px;\n",
              "        padding: 0 0 0 0;\n",
              "        width: 32px;\n",
              "      }\n",
              "\n",
              "      .colab-df-generate:hover {\n",
              "        background-color: #E2EBFA;\n",
              "        box-shadow: 0px 1px 2px rgba(60, 64, 67, 0.3), 0px 1px 3px 1px rgba(60, 64, 67, 0.15);\n",
              "        fill: #174EA6;\n",
              "      }\n",
              "\n",
              "      [theme=dark] .colab-df-generate {\n",
              "        background-color: #3B4455;\n",
              "        fill: #D2E3FC;\n",
              "      }\n",
              "\n",
              "      [theme=dark] .colab-df-generate:hover {\n",
              "        background-color: #434B5C;\n",
              "        box-shadow: 0px 1px 3px 1px rgba(0, 0, 0, 0.15);\n",
              "        filter: drop-shadow(0px 1px 2px rgba(0, 0, 0, 0.3));\n",
              "        fill: #FFFFFF;\n",
              "      }\n",
              "    </style>\n",
              "    <button class=\"colab-df-generate\" onclick=\"generateWithVariable('df')\"\n",
              "            title=\"Generate code using this dataframe.\"\n",
              "            style=\"display:none;\">\n",
              "\n",
              "  <svg xmlns=\"http://www.w3.org/2000/svg\" height=\"24px\"viewBox=\"0 0 24 24\"\n",
              "       width=\"24px\">\n",
              "    <path d=\"M7,19H8.4L18.45,9,17,7.55,7,17.6ZM5,21V16.75L18.45,3.32a2,2,0,0,1,2.83,0l1.4,1.43a1.91,1.91,0,0,1,.58,1.4,1.91,1.91,0,0,1-.58,1.4L9.25,21ZM18.45,9,17,7.55Zm-12,3A5.31,5.31,0,0,0,4.9,8.1,5.31,5.31,0,0,0,1,6.5,5.31,5.31,0,0,0,4.9,4.9,5.31,5.31,0,0,0,6.5,1,5.31,5.31,0,0,0,8.1,4.9,5.31,5.31,0,0,0,12,6.5,5.46,5.46,0,0,0,6.5,12Z\"/>\n",
              "  </svg>\n",
              "    </button>\n",
              "    <script>\n",
              "      (() => {\n",
              "      const buttonEl =\n",
              "        document.querySelector('#id_e157b5b9-e20a-4392-9f03-18e7c4f41501 button.colab-df-generate');\n",
              "      buttonEl.style.display =\n",
              "        google.colab.kernel.accessAllowed ? 'block' : 'none';\n",
              "\n",
              "      buttonEl.onclick = () => {\n",
              "        google.colab.notebook.generateWithVariable('df');\n",
              "      }\n",
              "      })();\n",
              "    </script>\n",
              "  </div>\n",
              "\n",
              "    </div>\n",
              "  </div>\n"
            ],
            "application/vnd.google.colaboratory.intrinsic+json": {
              "type": "dataframe",
              "variable_name": "df",
              "summary": "{\n  \"name\": \"df\",\n  \"rows\": 77833,\n  \"fields\": [\n    {\n      \"column\": \"parent_asin\",\n      \"properties\": {\n        \"dtype\": \"string\",\n        \"num_unique_values\": 77833,\n        \"samples\": [\n          \"B07G8H3XR2\",\n          \"B076ZSWW5D\",\n          \"B07T2JTYZG\"\n        ],\n        \"semantic_type\": \"\",\n        \"description\": \"\"\n      }\n    },\n    {\n      \"column\": \"main_category\",\n      \"properties\": {\n        \"dtype\": \"category\",\n        \"num_unique_values\": 8,\n        \"samples\": [\n          \"Premium Beauty\",\n          \"Gift Cards\",\n          \"All Beauty\"\n        ],\n        \"semantic_type\": \"\",\n        \"description\": \"\"\n      }\n    },\n    {\n      \"column\": \"title\",\n      \"properties\": {\n        \"dtype\": \"string\",\n        \"num_unique_values\": 75867,\n        \"samples\": [\n          \"Zener ESP - Train & Test your Intuition!\",\n          \"G4A: Sevens Premium\",\n          \"Foot Rocker - Calf, Ankle & Foot Stretcher - Improve Flexibility, Mobility and Range of Motion for Pain Caused by Plantar Fasciitis, Achilles Tendonitis and Tight Calves (Gray)\"\n        ],\n        \"semantic_type\": \"\",\n        \"description\": \"\"\n      }\n    },\n    {\n      \"column\": \"average_rating\",\n      \"properties\": {\n        \"dtype\": \"number\",\n        \"std\": 0.614010554580337,\n        \"min\": 1.0,\n        \"max\": 5.0,\n        \"num_unique_values\": 41,\n        \"samples\": [\n          2.5,\n          3.8,\n          4.3\n        ],\n        \"semantic_type\": \"\",\n        \"description\": \"\"\n      }\n    },\n    {\n      \"column\": \"rating_number\",\n      \"properties\": {\n        \"dtype\": \"number\",\n        \"std\": 12032.174227903872,\n        \"min\": 1.0,\n        \"max\": 1898759.0,\n        \"num_unique_values\": 3613,\n        \"samples\": [\n          776.0,\n          2981.0,\n          186.0\n        ],\n        \"semantic_type\": \"\",\n        \"description\": \"\"\n      }\n    },\n    {\n      \"column\": \"price\",\n      \"properties\": {\n        \"dtype\": \"number\",\n        \"std\": 26.52578440179408,\n        \"min\": 0.0,\n        \"max\": 2325.0,\n        \"num_unique_values\": 2136,\n        \"samples\": [\n          35.32,\n          7.8,\n          14.73\n        ],\n        \"semantic_type\": \"\",\n        \"description\": \"\"\n      }\n    },\n    {\n      \"column\": \"store\",\n      \"properties\": {\n        \"dtype\": \"category\",\n        \"num_unique_values\": 33713,\n        \"samples\": [\n          \"Niceshoes\",\n          \"SMAEL\",\n          \"WordWeb Software\"\n        ],\n        \"semantic_type\": \"\",\n        \"description\": \"\"\n      }\n    },\n    {\n      \"column\": \"features\",\n      \"properties\": {\n        \"dtype\": \"string\",\n        \"num_unique_values\": 51521,\n        \"samples\": [\n          \"['3 free test pages' 'Low worldwide rates' 'Easy to use']\",\n          \"['just 3 MB in size' 'convenient game control' 'completely free of charge']\",\n          \"['Almost 1000 square miles of terrain'\\n '5 cities to explore and choose job from' '6 unique locomotives'\\n '14 detailed cars (3 passenger and 11 freight)'\\n 'Locomotives and cars damage system'\\n 'Locomotive cabs with interactive levers and gauges'\\n 'Dynamic weather and day/night system'\\n 'Other trains and traffic on roads' 'Photo-realistic graphics'\\n 'Advanced signaling and speed limit systems']\"\n        ],\n        \"semantic_type\": \"\",\n        \"description\": \"\"\n      }\n    },\n    {\n      \"column\": \"description\",\n      \"properties\": {\n        \"dtype\": \"string\",\n        \"num_unique_values\": 53857,\n        \"samples\": [\n          \"['4 CDS ARE IN ORIGINAL BOX LIKE NEW THEY HAVE NO SCRATCH, MISSING ONE CD,. THE BOX CONTAIN 4 CDS INSTEAD OF FIVE.MISSING ALGEBRA 2 CD.']\",\n          \"['Welcome to The Tribez Kids game where boys and girls can adopt and take care of virtual pets from the Stone Age! Baby dinosaur Dino, tiny beaver Justin, cute mammoth Sophie and tiger girl Sarah are ready to play!\\u00b7 TAKE CARE OF YOUR PETS \\u00b7Keep an eye on your little animals\\u2019 stats and make sure to feed and bathe them on time! Sing them to sleep! Dress up your tiny pets in cute and crazy outfits and add cool accessories! Wow, now the baby animals feel super stylish!\\u00b7 BUILD & DECORATE \\u00b7Get creative and make your virtual pets\\u2019 houses cute and cozy! Build DIY house decor, paint, fix and make everything look pretty! Play all the 14 mini games with your new pet friends!\\u00b7 PLAY FUN MINI GAMES \\u00b7Keep your little pets entertained! Play fun memory games and hide and seek! Learn to play musical instruments, dance and draw! Solve puzzles and go underwater treasure hunting!- - - - - - - - - - - - - - - - - - - - - - - -About TutoTOONS Games for KidsCrafted and play-tested with kids and toddlers, TutoTOONS games foster kids\\u2019 creativity and help them learn while playing the games they love. Fun and educational TutoTOONS games strive to bring meaningful and safe mobile experience to millions of children worldwide.Important Message to ParentsThis app is free to download and play, but there are certain in-game items that may be purchased for real money. By downloading this app you agree to TutoTOONS Privacy Policy and Terms of Use.Discover More Fun with TutoTOONS!\\u00b7 Subscribe to our YouTube channel: https://www.youtube.com/c/tutotoonsofficial\\u00b7 Learn more about us: https://tutotoons.com\\u00b7 Read our blog: https://blog.tutotoons.com']\",\n          \"[\\\"Delicious Vegetarian Tasty Recipes app contains a collection of vegetarian recipes with proper and step by step cooking preparation. With Delicious Vegetarian Tasty Recipes app you can search for and find thousands of your favorite vegetarian and vegeterian recipes.Tasty vegetarian app contains a variety of tasty recipes like stir fry recipes, roast recipes, food fusion, European Foods, american recipes & American dishes & chops recipes. Get the tasty food & vegetarian cookbook app follow the recipe preparation with step by step cooking videos and with required ingredients.Some of Delicious Vegetarian Tasty Recipes Categories:Vegetarian appetizersVegetarian DinnerVegetarian BreakfastVegetarian DessertsVegetarian SnakeVegetarian LunchVegetarian RecipesVegetable Curry RecipesHealthy vegetarian recipesvegetarian foodtasty vegetarianhealthy lunch ideasvegetarian cheesevegetarian diettasty tastyvegetarian dessertstasty food recipesvegetarian fried riceTasty Vegetarian Recipesvegetarian instant ramenvegetarian keto recipesvegetarian keto dietvegetarian meal ideastasty tasty recipesvegetarian one pot mealsvegetarian breakfastvegetarian chilivegetarian chili slow cookerwhole foodwhole foodsindian vegetarian recipesturkish receipeveggie recipesvegetarian crockpot recipesvegetarian recipes suscriptionvegetarian mealsveg recipes of indiavegetarian appetizersvegetarian alfredovegetarian asian recipestasty vegetarianstasty vegetarian meal preptasty vegetarian videosvegetarian cookingtasty zucchini noodlestasty yummiesbuzzfeed - tastyvegetarian chili recipesveg recipevegetarian recipesSloppy Joesvegeterianthai curryveggie grillvegetable recipesvegetarian-restaurantsdelicious vegetarian recipesvegetarian paleo recipesplantbased recipesvegetarian healthgrowing foodeasy vegetarian recipesTasty healthy Recipesvegetarian diet plancookbook vegetarianvegetarianadaniel fast recipesvegetariervegetarian meal planvegetarischdieta vegetarianais it vegetarianCalzonesvegetarian dinner recipesTasty Demaisvegetarian cooktasty vegetarian tacosProper Tastytasty vegetarianoCheese SandwichesGrilled CheeseHot DogsTurkey SandwichesChicken BurgersLamb BurgersTurkey BurgersVeggie BurgersBeef buzz feed PizzaChicken PizzaPizza CrustsPizza Sauce buzzfeedVegetable PizzaBeef TenderloinBrisket buzz feedLeg of LambSlow cooker RoastsRib RoastFilet MignonFish SteaksFlank by buzzfeedLamb ChopsRib-Eye SteakRound SteakSirloinStrip Steak by buzzfeedBeef Stir FryChicken Stir FryStir Fry buzz feedSeafood Stir FryBeef SandwichesChicken SandwichesHot Dogs by buzzfeedsBeef Stroganoff RecipePotato Croquette RecipeHow To Make Mini Savoury CroissantsHow to prepare a French LunchHow to prepare a French SaladHow to make Vinaigrette buzzfeedHow to make French Crepes buzz feedFrench Salad IngredientsMaking A French OmeletteHow to make French Biscuits- SablesHow To Make French PancakesBlanc-Manger Recipe (Coconut Flan)Quiche Lorraine RecipeProvencal Pie with tuna and tomatoesBechamel Sauce with mushroomsCaramelised Apples Cake RecipeTarte Tatin RecipeBeef Ragout Recipe Brioche Recipe buzzfeedChicken Stew RecipeOlive Oil ToastHachis Parmentier (shaper's Pie)Beef StroganoffBeef WellingtonCaesar SaladDelmonico Steak (and Delmonico Potatoes)Eggs Benedict buzzfeedWaldorf SaladPeach Melba buzzfeedLobster Newburgh buzz feedLauki ke kofteNote : This is not an official App of Adrian Gee or Vegetarian Tastebuds's YouTube Channel, its just a little work from the die hard fan of it.DISCLAIMER:All the videos included in the app are public, they are hosted on YouTube. We only allows video streaming & to share YouTube links. We don't allow to download any content.keep calm , Download Delicious Vegetarian Tasty Recipes & Have Fun.\\\"]\"\n        ],\n        \"semantic_type\": \"\",\n        \"description\": \"\"\n      }\n    },\n    {\n      \"column\": \"images\",\n      \"properties\": {\n        \"dtype\": \"string\",\n        \"num_unique_values\": 76714,\n        \"samples\": [\n          \"{'hi_res': array([None], dtype=object), 'large': array(['https://m.media-amazon.com/images/I/310tpToaMDL.jpg'],\\n      dtype=object), 'thumb': array(['https://m.media-amazon.com/images/I/310tpToaMDL._SS40_.jpg'],\\n      dtype=object), 'variant': array(['MAIN'], dtype=object)}\",\n          \"{'hi_res': array([None, None, None, None], dtype=object), 'large': array(['https://m.media-amazon.com/images/I/A16IRChGesL.png',\\n       'https://m.media-amazon.com/images/I/A1uZ7m6idmL.png',\\n       'https://m.media-amazon.com/images/I/71ggBS8tNQL.png',\\n       'https://m.media-amazon.com/images/I/71DvL2boqHL.png'],\\n      dtype=object), 'thumb': array([None, None, None, None], dtype=object), 'variant': array(['MAIN', 'PT01', 'PT02', 'PT03'], dtype=object)}\",\n          \"{'hi_res': array(['https://m.media-amazon.com/images/I/71006S38CCS._AC_SL1438_.jpg'],\\n      dtype=object), 'large': array(['https://m.media-amazon.com/images/I/519pi+S14RL._AC_.jpg'],\\n      dtype=object), 'thumb': array(['https://m.media-amazon.com/images/I/519pi+S14RL._AC_SR38,50_.jpg'],\\n      dtype=object), 'variant': array(['MAIN'], dtype=object)}\"\n        ],\n        \"semantic_type\": \"\",\n        \"description\": \"\"\n      }\n    },\n    {\n      \"column\": \"categories\",\n      \"properties\": {\n        \"dtype\": \"category\",\n        \"num_unique_values\": 214,\n        \"samples\": [\n          \"['Software' 'Photography & Graphic Design' 'Photography']\",\n          \"['Software' 'Brands' 'McAfee' 'PC Performance']\",\n          \"['Software' 'Education & Reference' 'Test Preparation']\"\n        ],\n        \"semantic_type\": \"\",\n        \"description\": \"\"\n      }\n    },\n    {\n      \"column\": \"image_count\",\n      \"properties\": {\n        \"dtype\": \"number\",\n        \"std\": 7,\n        \"min\": 0,\n        \"max\": 288,\n        \"num_unique_values\": 58,\n        \"samples\": [\n          27,\n          4,\n          39\n        ],\n        \"semantic_type\": \"\",\n        \"description\": \"\"\n      }\n    },\n    {\n      \"column\": \"has_images\",\n      \"properties\": {\n        \"dtype\": \"boolean\",\n        \"num_unique_values\": 2,\n        \"samples\": [\n          false,\n          true\n        ],\n        \"semantic_type\": \"\",\n        \"description\": \"\"\n      }\n    },\n    {\n      \"column\": \"image_urls\",\n      \"properties\": {\n        \"dtype\": \"string\",\n        \"num_unique_values\": 76713,\n        \"samples\": [\n          \"['https://m.media-amazon.com/images/I/71ap7i2ntVL.jpg', 'https://m.media-amazon.com/images/I/813185JJe8L.jpg', 'https://m.media-amazon.com/images/I/717ldwufcML.jpg', 'https://m.media-amazon.com/images/I/41w7vACoX9L.jpg']\",\n          \"['https://m.media-amazon.com/images/I/512M6i0vtFL._AC_.jpg', 'https://m.media-amazon.com/images/I/512M6i0vtFL._AC_SR38,50_.jpg']\"\n        ],\n        \"semantic_type\": \"\",\n        \"description\": \"\"\n      }\n    },\n    {\n      \"column\": \"category\",\n      \"properties\": {\n        \"dtype\": \"category\",\n        \"num_unique_values\": 3,\n        \"samples\": [\n          \"All_Beauty\",\n          \"Health_and_Personal_Care\"\n        ],\n        \"semantic_type\": \"\",\n        \"description\": \"\"\n      }\n    }\n  ]\n}"
            }
          },
          "metadata": {},
          "execution_count": 40
        }
      ]
    },
    {
      "cell_type": "code",
      "execution_count": null,
      "metadata": {
        "colab": {
          "base_uri": "https://localhost:8080/",
          "height": 468
        },
        "id": "I4GWGReNAzfR",
        "outputId": "3b111fbc-6ea9-4f2e-d2e2-e5b9d4be1435"
      },
      "outputs": [
        {
          "output_type": "execute_result",
          "data": {
            "text/plain": [
              "<Axes: xlabel='average_rating', ylabel='Count'>"
            ]
          },
          "metadata": {},
          "execution_count": 49
        },
        {
          "output_type": "display_data",
          "data": {
            "text/plain": [
              "<Figure size 640x480 with 1 Axes>"
            ],
            "image/png": "[encoded data removed]"
          },
          "metadata": {}
        }
      ],
      "source": [
        "sns.histplot(df[\"average_rating\"])"
      ]
    },
    {
      "cell_type": "code",
      "execution_count": null,
      "metadata": {
        "colab": {
          "base_uri": "https://localhost:8080/",
          "height": 468
        },
        "id": "6ns1vWxHAyKV",
        "outputId": "0491d85f-bde6-48e1-ce4f-a1761bf83923"
      },
      "outputs": [
        {
          "output_type": "execute_result",
          "data": {
            "text/plain": [
              "<Axes: xlabel='category', ylabel='Count'>"
            ]
          },
          "metadata": {},
          "execution_count": 50
        },
        {
          "output_type": "display_data",
          "data": {
            "text/plain": [
              "<Figure size 640x480 with 1 Axes>"
            ],
            "image/png": "[encoded data removed]"
          },
          "metadata": {}
        }
      ],
      "source": [
        "sns.histplot(df[\"category\"])"
      ]
    },
    {
      "cell_type": "code",
      "execution_count": null,
      "metadata": {
        "colab": {
          "base_uri": "https://localhost:8080/",
          "height": 468
        },
        "id": "NuEHKa0LAp1w",
        "outputId": "3e7a9645-ea99-4d10-c2b9-9ed4e575f5c8"
      },
      "outputs": [
        {
          "output_type": "execute_result",
          "data": {
            "text/plain": [
              "<Axes: xlabel='main_category', ylabel='Count'>"
            ]
          },
          "metadata": {},
          "execution_count": 51
        },
        {
          "output_type": "display_data",
          "data": {
            "text/plain": [
              "<Figure size 640x480 with 1 Axes>"
            ],
            "image/png": "[encoded data removed]"
          },
          "metadata": {}
        }
      ],
      "source": [
        "sns.histplot(df['main_category'])"
      ]
    },
    {
      "cell_type": "markdown",
      "source": [
        "Kilks kategori całkowicie dominuje dataset"
      ],
      "metadata": {
        "id": "aQEG--1uNIvB"
      }
    },
    {
      "cell_type": "code",
      "execution_count": null,
      "metadata": {
        "colab": {
          "base_uri": "https://localhost:8080/",
          "height": 545
        },
        "id": "WEGeUmJUPOfc",
        "outputId": "1ff809c2-639f-4807-f6d8-91e1a1edb347"
      },
      "outputs": [
        {
          "output_type": "execute_result",
          "data": {
            "text/plain": [
              "<Axes: >"
            ]
          },
          "metadata": {},
          "execution_count": 53
        },
        {
          "output_type": "display_data",
          "data": {
            "text/plain": [
              "<Figure size 640x480 with 2 Axes>"
            ],
            "image/png": "[encoded data removed]"
          },
          "metadata": {}
        }
      ],
      "source": [
        "sns.heatmap(df.corr(numeric_only=True), annot=True)"
      ]
    },
    {
      "cell_type": "code",
      "execution_count": null,
      "metadata": {
        "colab": {
          "base_uri": "https://localhost:8080/",
          "height": 467
        },
        "id": "sJoTTD_8OJCQ",
        "outputId": "31c55754-1255-45c0-d977-8c47552e5b86"
      },
      "outputs": [
        {
          "output_type": "execute_result",
          "data": {
            "text/plain": [
              "<Axes: xlabel='price', ylabel='Count'>"
            ]
          },
          "metadata": {},
          "execution_count": 54
        },
        {
          "output_type": "display_data",
          "data": {
            "text/plain": [
              "<Figure size 640x480 with 1 Axes>"
            ],
            "image/png": "[encoded data removed]"
          },
          "metadata": {}
        }
      ],
      "source": [
        "sns.histplot(df['price'].dropna(), bins=100, kde=True)"
      ]
    },
    {
      "cell_type": "markdown",
      "source": [
        "Cena pokazuje rozkład prawostronny"
      ],
      "metadata": {
        "id": "7Hr2KzT2NEAx"
      }
    },
    {
      "cell_type": "code",
      "execution_count": null,
      "metadata": {
        "colab": {
          "base_uri": "https://localhost:8080/",
          "height": 468
        },
        "id": "rULFTLSrPQvK",
        "outputId": "4636211c-d672-42ae-acdc-836737b15dbe"
      },
      "outputs": [
        {
          "output_type": "execute_result",
          "data": {
            "text/plain": [
              "<Axes: xlabel='has_images', ylabel='count'>"
            ]
          },
          "metadata": {},
          "execution_count": 55
        },
        {
          "output_type": "display_data",
          "data": {
            "text/plain": [
              "<Figure size 640x480 with 1 Axes>"
            ],
            "image/png": "[encoded data removed]"
          },
          "metadata": {}
        }
      ],
      "source": [
        "sns.countplot(x=df['has_images'].dropna())"
      ]
    },
    {
      "cell_type": "markdown",
      "source": [
        "Brak itemów bez zdjęć"
      ],
      "metadata": {
        "id": "gvgfgFzUM_pu"
      }
    },
    {
      "cell_type": "code",
      "execution_count": null,
      "metadata": {
        "id": "o-ldkPkr9S2K"
      },
      "outputs": [],
      "source": []
    },
    {
      "cell_type": "code",
      "execution_count": null,
      "metadata": {
        "id": "Ezkezx9r9S0U"
      },
      "outputs": [],
      "source": []
    },
    {
      "cell_type": "markdown",
      "metadata": {
        "id": "5CH_-VhS9krp"
      },
      "source": [
        "# Tekstowe"
      ]
    },
    {
      "cell_type": "markdown",
      "metadata": {
        "id": "VgOzpdQYOWV2"
      },
      "source": [
        "title"
      ]
    },
    {
      "cell_type": "code",
      "execution_count": null,
      "metadata": {
        "colab": {
          "base_uri": "https://localhost:8080/",
          "height": 1000
        },
        "id": "llrM_dnJLet7",
        "outputId": "c67d2419-755e-4ff3-9742-1dd35ad5d1db"
      },
      "outputs": [
        {
          "output_type": "stream",
          "name": "stdout",
          "text": [
            "Średnia długość (znaki): 60.461308185474024\n",
            "Średnia długość (tokeny): 9.704405586319428\n",
            "Top 20 unigramów: [('hair', np.int64(10306)), ('free', np.int64(6663)), ('pack', np.int64(4647)), ('nail', np.int64(4005)), ('women', np.int64(3828)), ('oz', np.int64(3128)), ('natural', np.int64(3020)), ('black', np.int64(2771)), ('game', np.int64(2628)), ('set', np.int64(2613)), ('brush', np.int64(2597)), ('games', np.int64(2207)), ('body', np.int64(2094)), ('kids', np.int64(2026)), ('3d', np.int64(2002)), ('makeup', np.int64(1972)), ('version', np.int64(1928)), ('skin', np.int64(1888)), ('kit', np.int64(1876)), ('men', np.int64(1830))]\n",
            "Top 20 bigramów: [('old version', np.int64(1548)), ('human hair', np.int64(850)), ('nail art', np.int64(756)), ('fl oz', np.int64(732)), ('men women', np.int64(666)), ('nail polish', np.int64(623)), ('long lasting', np.int64(533)), ('kindle tablet', np.int64(530)), ('hair extensions', np.int64(513)), ('tablet edition', np.int64(492)), ('hidden object', np.int64(472)), ('women girls', np.int64(465)), ('stainless steel', np.int64(456)), ('false eyelashes', np.int64(438)), ('women men', np.int64(421)), ('oz pack', np.int64(412)), ('pain relief', np.int64(390)), ('games free', np.int64(381)), ('hidden objects', np.int64(380)), ('hair bundles', np.int64(322))]\n"
          ]
        },
        {
          "output_type": "execute_result",
          "data": {
            "text/plain": [
              "Text(0.5, 1.0, 'Rozkład wartości IDF')"
            ]
          },
          "metadata": {},
          "execution_count": 16
        },
        {
          "output_type": "display_data",
          "data": {
            "text/plain": [
              "<Figure size 640x480 with 1 Axes>"
            ],
            "image/png": "[encoded data removed]"
          },
          "metadata": {}
        },
        {
          "output_type": "display_data",
          "data": {
            "text/plain": [
              "<Figure size 640x480 with 1 Axes>"
            ],
            "image/png": "[encoded data removed]"
          },
          "metadata": {}
        },
        {
          "output_type": "display_data",
          "data": {
            "text/plain": [
              "<Figure size 640x480 with 1 Axes>"
            ],
            "image/png": "[encoded data removed]"
          },
          "metadata": {}
        }
      ],
      "source": [
        "import pandas as pd\n",
        "from sklearn.feature_extraction.text import CountVectorizer, TfidfVectorizer\n",
        "import matplotlib.pyplot as plt\n",
        "\n",
        "titles = df_items['title'].fillna('').str.lower()\n",
        "\n",
        "char_lens = titles.str.len()\n",
        "token_lens = titles.str.split().str.len()\n",
        "\n",
        "print(\"Średnia długość (znaki):\", char_lens.mean())\n",
        "print(\"Średnia długość (tokeny):\", token_lens.mean())\n",
        "\n",
        "plt.figure(); char_lens.hist(bins=30); plt.title(\"Rozkład długości tytułów [znaki]\")\n",
        "plt.figure(); token_lens.hist(bins=30); plt.title(\"Rozkład długości tytułów [tokeny]\")\n",
        "\n",
        "cv_uni = CountVectorizer(ngram_range=(1,1), stop_words='english')\n",
        "cv_bi  = CountVectorizer(ngram_range=(2,2), stop_words='english')\n",
        "\n",
        "X_uni = cv_uni.fit_transform(titles)\n",
        "X_bi  = cv_bi.fit_transform(titles)\n",
        "\n",
        "# top 20 najczęstszych unigramów i bigramów\n",
        "uni_counts = X_uni.sum(axis=0).A1\n",
        "bi_counts  = X_bi.sum(axis=0).A1\n",
        "\n",
        "uni_idx = uni_counts.argsort()[::-1][:20]\n",
        "bi_idx  = bi_counts.argsort()[::-1][:20]\n",
        "\n",
        "top_unigrams = [(cv_uni.get_feature_names_out()[i], uni_counts[i]) for i in uni_idx]\n",
        "top_bigrams  = [(cv_bi.get_feature_names_out()[i],  bi_counts[i]) for i in bi_idx]\n",
        "\n",
        "print(\"Top 20 unigramów:\", top_unigrams)\n",
        "print(\"Top 20 bigramów:\", top_bigrams)\n",
        "\n",
        "tfidf = TfidfVectorizer(max_features=5000, stop_words='english')\n",
        "tfidf.fit(titles)\n",
        "idf = tfidf.idf_\n",
        "plt.figure(); plt.hist(idf, bins=30); plt.title(\"Rozkład wartości IDF\")\n"
      ]
    },
    {
      "cell_type": "markdown",
      "source": [
        "Większość tytułów nie przekracza 20 słów, średnia to 9."
      ],
      "metadata": {
        "id": "TdMqrkB9MUXh"
      }
    },
    {
      "cell_type": "code",
      "execution_count": null,
      "metadata": {
        "colab": {
          "base_uri": "https://localhost:8080/"
        },
        "id": "KUxtgg0HN8q6",
        "outputId": "626c0de5-fed0-48cc-d741-776354e21911"
      },
      "outputs": [
        {
          "output_type": "stream",
          "name": "stdout",
          "text": [
            "Liczba unikalnych słów w tytułach: 42081\n"
          ]
        }
      ],
      "source": [
        "from sklearn.feature_extraction.text import CountVectorizer\n",
        "\n",
        "titles = df_items['title'].fillna('').str.lower()\n",
        "\n",
        "cv = CountVectorizer(ngram_range=(1,1), stop_words='english')\n",
        "_ = cv.fit_transform(titles)\n",
        "\n",
        "vocab_size = len(cv.vocabulary_)\n",
        "print(f\"Liczba unikalnych słów w tytułach: {vocab_size}\")\n"
      ]
    },
    {
      "cell_type": "code",
      "execution_count": null,
      "metadata": {
        "id": "Qhf9Ho-LGCHU"
      },
      "outputs": [],
      "source": [
        "\n",
        "\n",
        "from sklearn.feature_extraction.text import TfidfVectorizer\n",
        "from scipy import sparse\n",
        "\n",
        "titles = df_items['title'].fillna('').str.lower()\n",
        "tfidf = TfidfVectorizer(ngram_range=(1,1), min_df=10, max_df=0.5, max_features=1000)\n",
        "X_title = tfidf.fit_transform(titles)\n"
      ]
    },
    {
      "cell_type": "code",
      "execution_count": null,
      "metadata": {
        "colab": {
          "base_uri": "https://localhost:8080/"
        },
        "id": "I6KutQsbK5E3",
        "outputId": "f15a2165-7d0a-42be-f52e-9a675213c01a"
      },
      "outputs": [
        {
          "output_type": "execute_result",
          "data": {
            "text/plain": [
              "<Compressed Sparse Row sparse matrix of dtype 'float64'\n",
              "\twith 408713 stored elements and shape (77833, 1000)>"
            ]
          },
          "metadata": {},
          "execution_count": 20
        }
      ],
      "source": [
        "X_title"
      ]
    },
    {
      "cell_type": "code",
      "execution_count": null,
      "metadata": {
        "colab": {
          "base_uri": "https://localhost:8080/"
        },
        "id": "t-kHZT-iNX28",
        "outputId": "4739ae03-7ed4-4dbd-c8ac-3dd18757a8f8"
      },
      "outputs": [
        {
          "output_type": "stream",
          "name": "stdout",
          "text": [
            "1000 ['10' '100' '11' '12' '120' '13' '14' '15' '16' '17' '18' '180' '1b' '20'\n",
            " '200' '2010' '2011' '2013' '2014' '2015']\n"
          ]
        }
      ],
      "source": [
        "feature_names = tfidf.get_feature_names_out()\n",
        "print(len(feature_names), feature_names[:20])\n"
      ]
    },
    {
      "cell_type": "markdown",
      "metadata": {
        "id": "k87TN7PoQii5"
      },
      "source": [
        "##Przykładowa reprezentacja jednego z tytułów przy pomocy Tfidf\n",
        "\n",
        "Wagi słów odzwierciedlaja jak bardzo dane słowo charakteryzuje dany wektor (tytuł)\n",
        "\n",
        "Ustala się to na podstawie wystąpień tego słowa w danym wektorze oraz w innych wektorach.\n",
        "\n",
        "###1.Częste występowanie w całej macierzy + czeste wystepowanie w danym wektorze = przeciętna liczba, słowo nie jest jakies bardzo charakterystyczne dla danego wektora względem innych, ale jego czeste występowanie zostanie dostrzeżone\n",
        "\n",
        "###2.Rzadkie występowanie w całej macierzy + czeste wystepowanie w danym wektorze = duża liczba, słowo jest bardzo charakterystyczne dla danego wektora\n",
        "\n",
        "itd.\n"
      ]
    },
    {
      "cell_type": "code",
      "execution_count": null,
      "metadata": {
        "colab": {
          "base_uri": "https://localhost:8080/"
        },
        "id": "fnLDFnTKOzqO",
        "outputId": "2c34602c-ac8d-4513-c927-9475b674f403"
      },
      "outputs": [
        {
          "output_type": "stream",
          "name": "stdout",
          "text": [
            "eyelash: 0.267\n",
            "growth: 0.608\n",
            "serum: 0.292\n",
            "natural: 0.188\n",
            "ingredients: 0.317\n",
            "advanced: 0.302\n",
            "formula: 0.284\n",
            "and: 0.140\n",
            "lashes: 0.250\n",
            "white: 0.235\n",
            "pack: 0.168\n"
          ]
        }
      ],
      "source": [
        "feature_names = tfidf.get_feature_names_out()\n",
        "\n",
        "row = X_title.getrow(0)\n",
        "\n",
        "idxs = row.indices\n",
        "vals = row.data\n",
        "\n",
        "for i, v in zip(idxs, vals):\n",
        "    print(f\"{feature_names[i]}: {v:.3f}\")\n"
      ]
    },
    {
      "cell_type": "markdown",
      "metadata": {
        "id": "qBNJdYuwOX5Z"
      },
      "source": [
        "#features"
      ]
    },
    {
      "cell_type": "code",
      "execution_count": null,
      "metadata": {
        "colab": {
          "base_uri": "https://localhost:8080/",
          "height": 1000
        },
        "id": "_JNxIh_OSFog",
        "outputId": "19e47334-0d26-46b2-d84e-bd527f77cf64"
      },
      "outputs": [
        {
          "output_type": "stream",
          "name": "stdout",
          "text": [
            "Średnia długość (znaki): 235.40259273058984\n",
            "Średnia długość (tokeny): 36.650932123906315\n"
          ]
        },
        {
          "output_type": "stream",
          "name": "stderr",
          "text": [
            "ERROR:root:Internal Python error in the inspect module.\n",
            "Below is the traceback from this internal error.\n",
            "\n",
            "\n",
            "KeyboardInterrupt\n",
            "\n"
          ]
        },
        {
          "output_type": "display_data",
          "data": {
            "text/plain": [
              "<Figure size 640x480 with 1 Axes>"
            ],
            "image/png": "[encoded data removed]"
          },
          "metadata": {}
        },
        {
          "output_type": "display_data",
          "data": {
            "text/plain": [
              "<Figure size 640x480 with 1 Axes>"
            ],
            "image/png": "[encoded data removed]"
          },
          "metadata": {}
        }
      ],
      "source": [
        "import pandas as pd\n",
        "from sklearn.feature_extraction.text import CountVectorizer, TfidfVectorizer\n",
        "import matplotlib.pyplot as plt\n",
        "\n",
        "features = df_items['features'].fillna('').str.lower()\n",
        "\n",
        "char_lens = features.str.len()\n",
        "token_lens = features.str.split().str.len()\n",
        "\n",
        "print(\"Średnia długość (znaki):\", char_lens.mean())\n",
        "print(\"Średnia długość (tokeny):\", token_lens.mean())\n",
        "\n",
        "# histogram\n",
        "plt.figure(); char_lens.hist(bins=30); plt.title(\"Rozkład długości features [znaki]\")\n",
        "plt.figure(); token_lens.hist(bins=30); plt.title(\"Rozkład długości features [tokeny]\")\n",
        "\n",
        "cv_uni = CountVectorizer(ngram_range=(1,1), stop_words='english')\n",
        "cv_bi  = CountVectorizer(ngram_range=(2,2), stop_words='english')\n",
        "\n",
        "X_uni = cv_uni.fit_transform(features)\n",
        "X_bi  = cv_bi.fit_transform(features)\n",
        "\n",
        "# top 20 najczęstszych unigramów i bigramów\n",
        "uni_counts = X_uni.sum(axis=0).A1\n",
        "bi_counts  = X_bi.sum(axis=0).A1\n",
        "\n",
        "uni_idx = uni_counts.argsort()[::-1][:20]\n",
        "bi_idx  = bi_counts.argsort()[::-1][:20]\n",
        "\n",
        "top_unigrams = [(cv_uni.get_feature_names_out()[i], uni_counts[i]) for i in uni_idx]\n",
        "top_bigrams  = [(cv_bi.get_feature_names_out()[i],  bi_counts[i]) for i in bi_idx]\n",
        "\n",
        "print(\"Top 20 unigramów:\", top_unigrams)\n",
        "print(\"Top 20 bigramów:\", top_bigrams)\n",
        "\n",
        "tfidf = TfidfVectorizer(max_features=5000, stop_words='english')\n",
        "tfidf.fit(features)\n",
        "idf = tfidf.idf_\n",
        "plt.figure(); plt.hist(idf, bins=30); plt.title(\"Rozkład wartości IDF\")\n"
      ]
    },
    {
      "cell_type": "markdown",
      "source": [
        "Features jest nieco dłuższe, ale możemy zakodować je tak samo jak title"
      ],
      "metadata": {
        "id": "gtgakn3iMs4a"
      }
    },
    {
      "cell_type": "code",
      "execution_count": null,
      "metadata": {
        "id": "mGnpPqTmTbMb"
      },
      "outputs": [],
      "source": [
        "from sklearn.feature_extraction.text import TfidfVectorizer\n",
        "from scipy import sparse\n",
        "\n",
        "# 1. Przygotuj tekst\n",
        "feats = df_items['features'].fillna('').str.lower()\n",
        "\n",
        "# 2. Utwórz TF-IDF\n",
        "tfidf_feats = TfidfVectorizer(\n",
        "    ngram_range=(1,2),\n",
        "    min_df=20,\n",
        "    max_df=0.7,\n",
        "    max_features=2000,\n",
        "    stop_words=['easy','use','free','game','play']\n",
        ")\n",
        "\n",
        "X_feats = tfidf_feats.fit_transform(feats)\n",
        "\n",
        "print(\"Wymiar macierzy features:\", X_feats.shape)\n",
        "print(\"Przykładowe cechy:\", tfidf_feats.get_feature_names_out()[:10])\n",
        "\n"
      ]
    },
    {
      "cell_type": "code",
      "execution_count": null,
      "metadata": {
        "id": "oQfd8YESTbHN"
      },
      "outputs": [],
      "source": [
        "feature_names = tfidf_feats.get_feature_names_out()\n",
        "\n",
        "row = X_feats.getrow(5)\n",
        "\n",
        "for idx, val in zip(row.indices, row.data):\n",
        "    print(f\"{feature_names[idx]:<20} {val:.3f}\")\n"
      ]
    },
    {
      "cell_type": "code",
      "execution_count": null,
      "metadata": {
        "id": "m2saWE7bTbE5"
      },
      "outputs": [],
      "source": [
        "import matplotlib.pyplot as plt\n",
        "import numpy as np\n",
        "\n",
        "\n",
        "nnz_per_row = X_feats.getnnz(axis=1)\n",
        "\n",
        "\n",
        "plt.figure()\n",
        "plt.hist(nnz_per_row, bins=30)\n",
        "plt.title(\"Rozkład liczby nie-zerowych cech w macierzy `features`\")\n",
        "plt.xlabel(\"Liczba nie-zerowych elementów w wektorze\")\n",
        "plt.ylabel(\"Liczba przedmiotów\")\n",
        "plt.show()\n",
        "\n",
        "\n",
        "print(\"Min:\", nnz_per_row.min())\n",
        "print(\"25. percentyl:\", np.percentile(nnz_per_row, 25))\n",
        "print(\"Mediana:\", np.median(nnz_per_row))\n",
        "print(\"75. percentyl:\", np.percentile(nnz_per_row, 75))\n",
        "print(\"Max:\", nnz_per_row.max())\n"
      ]
    },
    {
      "cell_type": "markdown",
      "metadata": {
        "id": "voeEyLhrOZYS"
      },
      "source": [
        "#description"
      ]
    },
    {
      "cell_type": "code",
      "execution_count": null,
      "metadata": {
        "id": "l1P09V1oFpCH"
      },
      "outputs": [],
      "source": [
        "import pandas as pd\n",
        "from sklearn.feature_extraction.text import CountVectorizer, TfidfVectorizer\n",
        "import matplotlib.pyplot as plt\n",
        "\n",
        "description = df_items['description'].fillna('').str.lower()\n",
        "\n",
        "char_lens = description.str.len()\n",
        "token_lens = description.str.split().str.len()\n",
        "\n",
        "print(\"Średnia długość (znaki):\", char_lens.mean())\n",
        "print(\"Średnia długość (tokeny):\", token_lens.mean())\n",
        "\n",
        "# histogramy\n",
        "plt.figure(); char_lens.hist(bins=30); plt.title(\"Rozkład długości description [znaki]\")\n",
        "plt.figure(); token_lens.hist(bins=30); plt.title(\"Rozkład długości description [tokeny]\")\n",
        "plt.show()\n",
        "\n",
        "cv_uni = CountVectorizer(ngram_range=(1,1), stop_words='english')\n",
        "cv_bi  = CountVectorizer(ngram_range=(2,2), stop_words='english')\n",
        "\n",
        "X_uni = cv_uni.fit_transform(description)\n",
        "X_bi  = cv_bi.fit_transform(description)\n",
        "\n",
        "uni_counts = X_uni.sum(axis=0).A1\n",
        "bi_counts  = X_bi.sum(axis=0).A1\n",
        "\n",
        "uni_idx = uni_counts.argsort()[::-1][:20]\n",
        "bi_idx  = bi_counts.argsort()[::-1][:20]\n",
        "\n",
        "top_unigrams = [(cv_uni.get_feature_names_out()[i], uni_counts[i]) for i in uni_idx]\n",
        "top_bigrams  = [(cv_bi.get_feature_names_out()[i],  bi_counts[i]) for i in bi_idx]\n",
        "\n",
        "print(\"Top 20 unigramów:\", top_unigrams)\n",
        "print(\"Top 20 bigramów:\", top_bigrams)\n",
        "\n",
        "tfidf = TfidfVectorizer(\n",
        "    ngram_range=(1,2),\n",
        "    min_df=50,\n",
        "    max_df=0.8,\n",
        "    max_features=5000,\n",
        "    stop_words='english'\n",
        ")\n",
        "tfidf.fit(description)\n",
        "idf = tfidf.idf_\n",
        "\n",
        "plt.figure(); plt.hist(idf, bins=30); plt.title(\"Rozkład wartości IDF\")\n",
        "plt.show()\n"
      ]
    },
    {
      "cell_type": "markdown",
      "source": [
        "Description jest statystycznie duzo dłuższe niz inne cechy tekstowe, jest to bardziej szczegółowa wersja features. To jak duża ilośc kolumn reprezentuających description obciązy model nie jest warte tej informacji. Nie skorzystamy z description"
      ],
      "metadata": {
        "id": "-EA-ldIuLQLi"
      }
    },
    {
      "cell_type": "code",
      "execution_count": null,
      "metadata": {
        "id": "8tq_BEVRcXrG"
      },
      "outputs": [],
      "source": []
    },
    {
      "cell_type": "markdown",
      "metadata": {
        "id": "UKche5Pq9l04"
      },
      "source": [
        "# Zdjęcia"
      ]
    },
    {
      "cell_type": "code",
      "execution_count": null,
      "metadata": {
        "colab": {
          "base_uri": "https://localhost:8080/"
        },
        "id": "73mOeonGAe4F",
        "outputId": "cbd61ae4-0539-4cf5-dd2d-294f29b9cbcc"
      },
      "outputs": [
        {
          "output_type": "execute_result",
          "data": {
            "text/plain": [
              "['https://m.media-amazon.com/images/I/615N6fkcn9L._SL1500_.jpg',\n",
              " 'https://m.media-amazon.com/images/I/81VThfNtptL._SL1500_.jpg',\n",
              " 'https://m.media-amazon.com/images/I/71U6hl1ancL._SL1500_.jpg',\n",
              " 'https://m.media-amazon.com/images/I/71p2er91bHL._SL1500_.jpg',\n",
              " 'https://m.media-amazon.com/images/I/71ZSKVbjDKL._SL1500_.jpg',\n",
              " 'https://m.media-amazon.com/images/I/71ZKyAQreOL._SL1500_.jpg',\n",
              " 'https://m.media-amazon.com/images/I/81TKaR25g7L._SL1500_.jpg',\n",
              " 'https://m.media-amazon.com/images/I/81wSVZ-2nmL._SL1500_.jpg',\n",
              " 'https://m.media-amazon.com/images/I/81qaY2mjEuL._SL1500_.jpg',\n",
              " 'https://m.media-amazon.com/images/I/41yq3nUn6EL.jpg',\n",
              " 'https://m.media-amazon.com/images/I/51SGg7l2S4L.jpg',\n",
              " 'https://m.media-amazon.com/images/I/41t5-RO8F0L.jpg',\n",
              " 'https://m.media-amazon.com/images/I/412svaaj2GL.jpg',\n",
              " 'https://m.media-amazon.com/images/I/51hzxF+FEwL.jpg',\n",
              " 'https://m.media-amazon.com/images/I/51yGSQO1M+L.jpg',\n",
              " 'https://m.media-amazon.com/images/I/51pRl5qV0WL.jpg',\n",
              " 'https://m.media-amazon.com/images/I/513noPCtHzL.jpg',\n",
              " 'https://m.media-amazon.com/images/I/516VS8z2bCL.jpg',\n",
              " 'https://m.media-amazon.com/images/I/41yq3nUn6EL._SS40_.jpg',\n",
              " 'https://m.media-amazon.com/images/I/51SGg7l2S4L._SS40_.jpg',\n",
              " 'https://m.media-amazon.com/images/I/41t5-RO8F0L._SS40_.jpg',\n",
              " 'https://m.media-amazon.com/images/I/412svaaj2GL._SS40_.jpg',\n",
              " 'https://m.media-amazon.com/images/I/51hzxF+FEwL._SS40_.jpg',\n",
              " 'https://m.media-amazon.com/images/I/51yGSQO1M+L._SS40_.jpg',\n",
              " 'https://m.media-amazon.com/images/I/51pRl5qV0WL._SS40_.jpg',\n",
              " 'https://m.media-amazon.com/images/I/513noPCtHzL._SS40_.jpg',\n",
              " 'https://m.media-amazon.com/images/I/516VS8z2bCL._SS40_.jpg']"
            ]
          },
          "metadata": {},
          "execution_count": 42
        }
      ],
      "source": [
        "df_items['image_urls'][0]"
      ]
    },
    {
      "cell_type": "code",
      "execution_count": null,
      "metadata": {
        "colab": {
          "base_uri": "https://localhost:8080/",
          "height": 607
        },
        "id": "Kb5m1brIAe0-",
        "outputId": "07ceb758-b9c3-42f3-8c5a-f9671fb78544"
      },
      "outputs": [
        {
          "output_type": "display_data",
          "data": {
            "text/plain": [
              "<Figure size 1000x600 with 1 Axes>"
            ],
            "image/png": "[encoded data removed]"
          },
          "metadata": {}
        }
      ],
      "source": [
        "import matplotlib.pyplot as plt\n",
        "import seaborn as sns\n",
        "\n",
        "plt.figure(figsize=(10, 6))\n",
        "sns.histplot(df_items['image_count'], bins=30, kde=True)\n",
        "\n",
        "plt.title(\"Dystrybucja liczby zdjęć na produkt\")\n",
        "plt.xlabel(\"Liczba zdjęć\")\n",
        "plt.ylabel(\"Liczba produktów\")\n",
        "plt.grid(True)\n",
        "plt.tight_layout()\n",
        "plt.show()\n"
      ]
    },
    {
      "cell_type": "markdown",
      "source": [
        "Więszkosc produktów ma 0-10 zdjęć.\n",
        "Zdjęcia są wymagające obliczeniowo. Dla każdego produktu użyjemy jedynie 3 pierwszych zdjęć."
      ],
      "metadata": {
        "id": "_-iZo-5zLm9y"
      }
    },
    {
      "cell_type": "markdown",
      "source": [
        "EMBEDDINGI ZDJĘC"
      ],
      "metadata": {
        "id": "zoksd-p2tlvm"
      }
    },
    {
      "cell_type": "code",
      "execution_count": null,
      "metadata": {
        "colab": {
          "base_uri": "https://localhost:8080/"
        },
        "id": "RJBKbKm9Aetz",
        "outputId": "41df645c-1bb2-4cb9-ec2e-1e2e198b5a9b"
      },
      "outputs": [
        {
          "metadata": {
            "tags": null
          },
          "name": "stdout",
          "output_type": "stream",
          "text": [
            "✅ Używamy urządzenia: cuda\n",
            "🆕 Nowy dict start\n",
            "📦 Do przetworzenia: 77833 produktów\n"
          ]
        },
        {
          "metadata": {
            "tags": null
          },
          "name": "stderr",
          "output_type": "stream",
          "text": [
            "  1%|▏         | 1000/77833 [03:29<13:47:48,  1.55it/s]"
          ]
        },
        {
          "metadata": {
            "tags": null
          },
          "name": "stdout",
          "output_type": "stream",
          "text": [
            "💾 Zapisano checkpoint: 1000 produktów\n"
          ]
        },
        {
          "metadata": {
            "tags": null
          },
          "name": "stderr",
          "output_type": "stream",
          "text": [
            "  3%|▎         | 2001/77833 [07:01<4:43:34,  4.46it/s]"
          ]
        },
        {
          "metadata": {
            "tags": null
          },
          "name": "stdout",
          "output_type": "stream",
          "text": [
            "💾 Zapisano checkpoint: 2000 produktów\n"
          ]
        },
        {
          "metadata": {
            "tags": null
          },
          "name": "stderr",
          "output_type": "stream",
          "text": [
            "  4%|▍         | 3000/77833 [10:27<6:47:29,  3.06it/s]"
          ]
        },
        {
          "metadata": {
            "tags": null
          },
          "name": "stdout",
          "output_type": "stream",
          "text": [
            "💾 Zapisano checkpoint: 3000 produktów\n"
          ]
        },
        {
          "metadata": {
            "tags": null
          },
          "name": "stderr",
          "output_type": "stream",
          "text": [
            "  5%|▌         | 4000/77833 [14:14<8:33:21,  2.40it/s]"
          ]
        },
        {
          "metadata": {
            "tags": null
          },
          "name": "stdout",
          "output_type": "stream",
          "text": [
            "💾 Zapisano checkpoint: 4000 produktów\n"
          ]
        },
        {
          "metadata": {
            "tags": null
          },
          "name": "stderr",
          "output_type": "stream",
          "text": [
            "  6%|▋         | 5001/77833 [17:40<4:17:04,  4.72it/s]"
          ]
        },
        {
          "metadata": {
            "tags": null
          },
          "name": "stdout",
          "output_type": "stream",
          "text": [
            "💾 Zapisano checkpoint: 5000 produktów\n"
          ]
        },
        {
          "metadata": {
            "tags": null
          },
          "name": "stderr",
          "output_type": "stream",
          "text": [
            "  8%|▊         | 6000/77833 [21:33<4:33:11,  4.38it/s]"
          ]
        },
        {
          "metadata": {
            "tags": null
          },
          "name": "stdout",
          "output_type": "stream",
          "text": [
            "💾 Zapisano checkpoint: 6000 produktów\n"
          ]
        },
        {
          "metadata": {
            "tags": null
          },
          "name": "stderr",
          "output_type": "stream",
          "text": [
            "  9%|▉         | 7000/77833 [25:25<5:28:49,  3.59it/s]"
          ]
        },
        {
          "metadata": {
            "tags": null
          },
          "name": "stdout",
          "output_type": "stream",
          "text": [
            "💾 Zapisano checkpoint: 7000 produktów\n"
          ]
        },
        {
          "output_type": "stream",
          "name": "stderr",
          "text": [
            " 10%|█         | 8001/77833 [29:15<5:00:20,  3.88it/s]"
          ]
        },
        {
          "output_type": "stream",
          "name": "stdout",
          "text": [
            "💾 Zapisano checkpoint: 8000 produktów\n"
          ]
        },
        {
          "output_type": "stream",
          "name": "stderr",
          "text": [
            " 12%|█▏        | 9001/77833 [34:05<3:37:50,  5.27it/s]"
          ]
        },
        {
          "output_type": "stream",
          "name": "stdout",
          "text": [
            "💾 Zapisano checkpoint: 9000 produktów\n"
          ]
        },
        {
          "output_type": "stream",
          "name": "stderr",
          "text": [
            " 13%|█▎        | 10000/77833 [38:17<9:24:39,  2.00it/s]"
          ]
        },
        {
          "output_type": "stream",
          "name": "stdout",
          "text": [
            "💾 Zapisano checkpoint: 10000 produktów\n"
          ]
        },
        {
          "output_type": "stream",
          "name": "stderr",
          "text": [
            " 14%|█▍        | 11001/77833 [42:32<9:23:15,  1.98it/s] "
          ]
        },
        {
          "output_type": "stream",
          "name": "stdout",
          "text": [
            "💾 Zapisano checkpoint: 11000 produktów\n"
          ]
        },
        {
          "output_type": "stream",
          "name": "stderr",
          "text": [
            " 15%|█▌        | 12001/77833 [47:08<4:04:00,  4.50it/s]"
          ]
        },
        {
          "output_type": "stream",
          "name": "stdout",
          "text": [
            "💾 Zapisano checkpoint: 12000 produktów\n"
          ]
        },
        {
          "output_type": "stream",
          "name": "stderr",
          "text": [
            " 17%|█▋        | 13001/77833 [51:09<4:15:08,  4.23it/s]"
          ]
        },
        {
          "output_type": "stream",
          "name": "stdout",
          "text": [
            "💾 Zapisano checkpoint: 13000 produktów\n"
          ]
        },
        {
          "output_type": "stream",
          "name": "stderr",
          "text": [
            " 18%|█▊        | 14001/77833 [54:59<3:52:57,  4.57it/s]"
          ]
        },
        {
          "output_type": "stream",
          "name": "stdout",
          "text": [
            "💾 Zapisano checkpoint: 14000 produktów\n"
          ]
        },
        {
          "output_type": "stream",
          "name": "stderr",
          "text": [
            " 19%|█▉        | 15001/77833 [58:50<4:30:56,  3.87it/s]"
          ]
        },
        {
          "output_type": "stream",
          "name": "stdout",
          "text": [
            "💾 Zapisano checkpoint: 15000 produktów\n"
          ]
        },
        {
          "output_type": "stream",
          "name": "stderr",
          "text": [
            " 21%|██        | 16001/77833 [1:03:20<6:18:31,  2.72it/s]"
          ]
        },
        {
          "output_type": "stream",
          "name": "stdout",
          "text": [
            "💾 Zapisano checkpoint: 16000 produktów\n"
          ]
        },
        {
          "output_type": "stream",
          "name": "stderr",
          "text": [
            " 22%|██▏       | 17001/77833 [1:07:24<5:13:02,  3.24it/s]"
          ]
        },
        {
          "output_type": "stream",
          "name": "stdout",
          "text": [
            "💾 Zapisano checkpoint: 17000 produktów\n"
          ]
        },
        {
          "output_type": "stream",
          "name": "stderr",
          "text": [
            " 23%|██▎       | 18001/77833 [1:10:55<4:45:27,  3.49it/s]"
          ]
        },
        {
          "output_type": "stream",
          "name": "stdout",
          "text": [
            "💾 Zapisano checkpoint: 18000 produktów\n"
          ]
        },
        {
          "output_type": "stream",
          "name": "stderr",
          "text": [
            " 24%|██▍       | 19001/77833 [1:15:11<5:27:58,  2.99it/s]"
          ]
        },
        {
          "output_type": "stream",
          "name": "stdout",
          "text": [
            "💾 Zapisano checkpoint: 19000 produktów\n"
          ]
        },
        {
          "output_type": "stream",
          "name": "stderr",
          "text": [
            " 26%|██▌       | 20000/77833 [1:19:21<7:22:59,  2.18it/s]"
          ]
        },
        {
          "output_type": "stream",
          "name": "stdout",
          "text": [
            "💾 Zapisano checkpoint: 20000 produktów\n"
          ]
        },
        {
          "output_type": "stream",
          "name": "stderr",
          "text": [
            " 27%|██▋       | 21000/77833 [1:23:03<6:24:47,  2.46it/s]"
          ]
        },
        {
          "output_type": "stream",
          "name": "stdout",
          "text": [
            "💾 Zapisano checkpoint: 21000 produktów\n"
          ]
        },
        {
          "output_type": "stream",
          "name": "stderr",
          "text": [
            " 28%|██▊       | 22001/77833 [1:26:51<4:18:27,  3.60it/s]"
          ]
        },
        {
          "output_type": "stream",
          "name": "stdout",
          "text": [
            "💾 Zapisano checkpoint: 22000 produktów\n"
          ]
        },
        {
          "output_type": "stream",
          "name": "stderr",
          "text": [
            " 30%|██▉       | 23000/77833 [1:31:42<7:25:50,  2.05it/s]"
          ]
        },
        {
          "output_type": "stream",
          "name": "stdout",
          "text": [
            "💾 Zapisano checkpoint: 23000 produktów\n"
          ]
        },
        {
          "output_type": "stream",
          "name": "stderr",
          "text": [
            " 31%|███       | 24001/77833 [1:36:17<5:24:31,  2.76it/s]"
          ]
        },
        {
          "output_type": "stream",
          "name": "stdout",
          "text": [
            "💾 Zapisano checkpoint: 24000 produktów\n"
          ]
        },
        {
          "output_type": "stream",
          "name": "stderr",
          "text": [
            " 32%|███▏      | 25001/77833 [1:40:22<4:07:40,  3.56it/s]"
          ]
        },
        {
          "output_type": "stream",
          "name": "stdout",
          "text": [
            "💾 Zapisano checkpoint: 25000 produktów\n"
          ]
        },
        {
          "output_type": "stream",
          "name": "stderr",
          "text": [
            " 33%|███▎      | 26001/77833 [1:44:00<5:33:31,  2.59it/s]"
          ]
        },
        {
          "output_type": "stream",
          "name": "stdout",
          "text": [
            "💾 Zapisano checkpoint: 26000 produktów\n"
          ]
        },
        {
          "output_type": "stream",
          "name": "stderr",
          "text": [
            " 35%|███▍      | 27001/77833 [1:48:04<6:37:00,  2.13it/s]"
          ]
        },
        {
          "output_type": "stream",
          "name": "stdout",
          "text": [
            "💾 Zapisano checkpoint: 27000 produktów\n"
          ]
        },
        {
          "output_type": "stream",
          "name": "stderr",
          "text": [
            " 36%|███▌      | 28001/77833 [1:51:50<5:55:28,  2.34it/s]"
          ]
        },
        {
          "output_type": "stream",
          "name": "stdout",
          "text": [
            "💾 Zapisano checkpoint: 28000 produktów\n"
          ]
        },
        {
          "output_type": "stream",
          "name": "stderr",
          "text": [
            " 37%|███▋      | 29001/77833 [1:55:19<4:31:00,  3.00it/s]"
          ]
        },
        {
          "output_type": "stream",
          "name": "stdout",
          "text": [
            "💾 Zapisano checkpoint: 29000 produktów\n"
          ]
        },
        {
          "output_type": "stream",
          "name": "stderr",
          "text": [
            " 39%|███▊      | 30000/77833 [1:59:28<7:47:12,  1.71it/s]"
          ]
        },
        {
          "output_type": "stream",
          "name": "stdout",
          "text": [
            "💾 Zapisano checkpoint: 30000 produktów\n"
          ]
        },
        {
          "output_type": "stream",
          "name": "stderr",
          "text": [
            " 40%|███▉      | 31000/77833 [2:03:48<9:26:33,  1.38it/s]"
          ]
        },
        {
          "output_type": "stream",
          "name": "stdout",
          "text": [
            "💾 Zapisano checkpoint: 31000 produktów\n"
          ]
        },
        {
          "output_type": "stream",
          "name": "stderr",
          "text": [
            " 41%|████      | 32000/77833 [2:08:56<8:01:26,  1.59it/s]"
          ]
        },
        {
          "output_type": "stream",
          "name": "stdout",
          "text": [
            "💾 Zapisano checkpoint: 32000 produktów\n"
          ]
        },
        {
          "output_type": "stream",
          "name": "stderr",
          "text": [
            " 42%|████▏     | 33000/77833 [2:13:54<7:48:27,  1.60it/s]"
          ]
        },
        {
          "output_type": "stream",
          "name": "stdout",
          "text": [
            "💾 Zapisano checkpoint: 33000 produktów\n"
          ]
        },
        {
          "output_type": "stream",
          "name": "stderr",
          "text": [
            " 44%|████▎     | 34000/77833 [2:18:30<7:07:20,  1.71it/s]"
          ]
        },
        {
          "output_type": "stream",
          "name": "stdout",
          "text": [
            "💾 Zapisano checkpoint: 34000 produktów\n"
          ]
        },
        {
          "output_type": "stream",
          "name": "stderr",
          "text": [
            " 45%|████▍     | 34695/77833 [2:21:20<2:23:36,  5.01it/s]/usr/local/lib/python3.11/dist-packages/PIL/Image.py:1043: UserWarning: Palette images with Transparency expressed in bytes should be converted to RGBA images\n",
            "  warnings.warn(\n",
            " 45%|████▍     | 35000/77833 [2:22:44<8:31:47,  1.39it/s]"
          ]
        },
        {
          "output_type": "stream",
          "name": "stdout",
          "text": [
            "💾 Zapisano checkpoint: 35000 produktów\n"
          ]
        },
        {
          "output_type": "stream",
          "name": "stderr",
          "text": [
            " 46%|████▋     | 36000/77833 [2:26:58<8:34:10,  1.36it/s]"
          ]
        },
        {
          "output_type": "stream",
          "name": "stdout",
          "text": [
            "💾 Zapisano checkpoint: 36000 produktów\n"
          ]
        },
        {
          "output_type": "stream",
          "name": "stderr",
          "text": [
            " 48%|████▊     | 37000/77833 [2:31:47<7:51:33,  1.44it/s]"
          ]
        },
        {
          "output_type": "stream",
          "name": "stdout",
          "text": [
            "💾 Zapisano checkpoint: 37000 produktów\n"
          ]
        },
        {
          "output_type": "stream",
          "name": "stderr",
          "text": [
            " 49%|████▉     | 38000/77833 [2:36:19<6:33:43,  1.69it/s]"
          ]
        },
        {
          "output_type": "stream",
          "name": "stdout",
          "text": [
            "💾 Zapisano checkpoint: 38000 produktów\n"
          ]
        },
        {
          "output_type": "stream",
          "name": "stderr",
          "text": [
            " 50%|█████     | 39000/77833 [2:40:49<8:22:46,  1.29it/s]"
          ]
        },
        {
          "output_type": "stream",
          "name": "stdout",
          "text": [
            "💾 Zapisano checkpoint: 39000 produktów\n"
          ]
        },
        {
          "output_type": "stream",
          "name": "stderr",
          "text": [
            " 51%|█████▏    | 40000/77833 [2:46:06<16:47:11,  1.60s/it]"
          ]
        },
        {
          "output_type": "stream",
          "name": "stdout",
          "text": [
            "💾 Zapisano checkpoint: 40000 produktów\n"
          ]
        },
        {
          "output_type": "stream",
          "name": "stderr",
          "text": [
            " 53%|█████▎    | 41001/77833 [2:51:05<5:31:18,  1.85it/s]"
          ]
        },
        {
          "output_type": "stream",
          "name": "stdout",
          "text": [
            "💾 Zapisano checkpoint: 41000 produktów\n"
          ]
        },
        {
          "output_type": "stream",
          "name": "stderr",
          "text": [
            " 54%|█████▍    | 42000/77833 [2:55:54<7:00:16,  1.42it/s]"
          ]
        },
        {
          "output_type": "stream",
          "name": "stdout",
          "text": [
            "💾 Zapisano checkpoint: 42000 produktów\n"
          ]
        },
        {
          "output_type": "stream",
          "name": "stderr",
          "text": [
            " 55%|█████▌    | 43000/77833 [3:00:25<6:53:11,  1.41it/s]"
          ]
        },
        {
          "output_type": "stream",
          "name": "stdout",
          "text": [
            "💾 Zapisano checkpoint: 43000 produktów\n"
          ]
        },
        {
          "output_type": "stream",
          "name": "stderr",
          "text": [
            " 57%|█████▋    | 44000/77833 [3:05:08<6:03:37,  1.55it/s]"
          ]
        },
        {
          "output_type": "stream",
          "name": "stdout",
          "text": [
            "💾 Zapisano checkpoint: 44000 produktów\n"
          ]
        },
        {
          "output_type": "stream",
          "name": "stderr",
          "text": [
            " 58%|█████▊    | 45000/77833 [3:10:10<5:24:48,  1.68it/s]"
          ]
        },
        {
          "output_type": "stream",
          "name": "stdout",
          "text": [
            "💾 Zapisano checkpoint: 45000 produktów\n"
          ]
        },
        {
          "output_type": "stream",
          "name": "stderr",
          "text": [
            " 59%|█████▉    | 46000/77833 [3:15:02<15:30:25,  1.75s/it]"
          ]
        },
        {
          "output_type": "stream",
          "name": "stdout",
          "text": [
            "💾 Zapisano checkpoint: 46000 produktów\n"
          ]
        },
        {
          "output_type": "stream",
          "name": "stderr",
          "text": [
            " 60%|██████    | 47000/77833 [3:20:17<10:36:47,  1.24s/it]"
          ]
        },
        {
          "output_type": "stream",
          "name": "stdout",
          "text": [
            "💾 Zapisano checkpoint: 47000 produktów\n"
          ]
        },
        {
          "output_type": "stream",
          "name": "stderr",
          "text": [
            " 62%|██████▏   | 48001/77833 [3:25:50<10:13:09,  1.23s/it]"
          ]
        },
        {
          "output_type": "stream",
          "name": "stdout",
          "text": [
            "💾 Zapisano checkpoint: 48000 produktów\n"
          ]
        },
        {
          "output_type": "stream",
          "name": "stderr",
          "text": [
            " 63%|██████▎   | 49000/77833 [3:30:07<7:07:23,  1.12it/s]"
          ]
        },
        {
          "output_type": "stream",
          "name": "stdout",
          "text": [
            "💾 Zapisano checkpoint: 49000 produktów\n"
          ]
        },
        {
          "output_type": "stream",
          "name": "stderr",
          "text": [
            " 64%|██████▍   | 50001/77833 [3:34:22<4:33:59,  1.69it/s]"
          ]
        },
        {
          "output_type": "stream",
          "name": "stdout",
          "text": [
            "💾 Zapisano checkpoint: 50000 produktów\n"
          ]
        },
        {
          "output_type": "stream",
          "name": "stderr",
          "text": [
            " 66%|██████▌   | 51001/77833 [3:38:41<7:16:50,  1.02it/s]"
          ]
        },
        {
          "output_type": "stream",
          "name": "stdout",
          "text": [
            "💾 Zapisano checkpoint: 51000 produktów\n"
          ]
        },
        {
          "output_type": "stream",
          "name": "stderr",
          "text": [
            " 67%|██████▋   | 52000/77833 [3:43:01<14:27:20,  2.01s/it]"
          ]
        },
        {
          "output_type": "stream",
          "name": "stdout",
          "text": [
            "💾 Zapisano checkpoint: 52000 produktów\n"
          ]
        },
        {
          "output_type": "stream",
          "name": "stderr",
          "text": [
            " 68%|██████▊   | 53001/77833 [3:47:44<11:39:31,  1.69s/it]"
          ]
        },
        {
          "output_type": "stream",
          "name": "stdout",
          "text": [
            "💾 Zapisano checkpoint: 53000 produktów\n"
          ]
        },
        {
          "output_type": "stream",
          "name": "stderr",
          "text": [
            " 69%|██████▉   | 54001/77833 [3:52:28<7:37:15,  1.15s/it] "
          ]
        },
        {
          "output_type": "stream",
          "name": "stdout",
          "text": [
            "💾 Zapisano checkpoint: 54000 produktów\n"
          ]
        },
        {
          "output_type": "stream",
          "name": "stderr",
          "text": [
            " 71%|███████   | 55001/77833 [3:56:50<9:28:32,  1.49s/it] "
          ]
        },
        {
          "output_type": "stream",
          "name": "stdout",
          "text": [
            "💾 Zapisano checkpoint: 55000 produktów\n"
          ]
        },
        {
          "output_type": "stream",
          "name": "stderr",
          "text": [
            " 72%|███████▏  | 56001/77833 [4:01:42<8:40:43,  1.43s/it] "
          ]
        },
        {
          "output_type": "stream",
          "name": "stdout",
          "text": [
            "💾 Zapisano checkpoint: 56000 produktów\n"
          ]
        },
        {
          "output_type": "stream",
          "name": "stderr",
          "text": [
            " 73%|███████▎  | 57001/77833 [4:06:06<3:47:09,  1.53it/s]"
          ]
        },
        {
          "output_type": "stream",
          "name": "stdout",
          "text": [
            "💾 Zapisano checkpoint: 57000 produktów\n"
          ]
        },
        {
          "output_type": "stream",
          "name": "stderr",
          "text": [
            " 75%|███████▍  | 58000/77833 [4:10:17<12:57:10,  2.35s/it]"
          ]
        },
        {
          "output_type": "stream",
          "name": "stdout",
          "text": [
            "💾 Zapisano checkpoint: 58000 produktów\n"
          ]
        },
        {
          "output_type": "stream",
          "name": "stderr",
          "text": [
            " 76%|███████▌  | 59000/77833 [4:14:48<11:25:04,  2.18s/it]"
          ]
        },
        {
          "output_type": "stream",
          "name": "stdout",
          "text": [
            "💾 Zapisano checkpoint: 59000 produktów\n"
          ]
        },
        {
          "output_type": "stream",
          "name": "stderr",
          "text": [
            " 76%|███████▋  | 59452/77833 [4:17:50<1:52:57,  2.71it/s]"
          ]
        }
      ],
      "source": [
        "import os\n",
        "import torch\n",
        "import numpy as np\n",
        "from PIL import Image\n",
        "import requests\n",
        "from torchvision import models, transforms\n",
        "from tqdm import tqdm\n",
        "from concurrent.futures import ThreadPoolExecutor, as_completed\n",
        "import warnings\n",
        "\n",
        "\n",
        "\n",
        "import ast\n",
        "\n",
        "df_items['image_urls'] = df_items['image_urls'].apply(\n",
        "    lambda x: ast.literal_eval(x) if isinstance(x, str) else x\n",
        ")\n",
        "\n",
        "\n",
        "\n",
        "SAVE_PATH = \"/content/drive/MyDrive/DSC/EMBEDDINGS/image_embeddings_dict.npy\"\n",
        "CHECKPOINT_EVERY = 1000\n",
        "\n",
        "device = torch.device(\"cuda\" if torch.cuda.is_available() else \"cpu\")\n",
        "print(\"✅ Używamy urządzenia:\", device)\n",
        "\n",
        "resnet = models.resnet18(weights=models.ResNet18_Weights.DEFAULT)\n",
        "resnet = torch.nn.Sequential(*list(resnet.children())[:-1])  # bez klasyfikatora\n",
        "resnet.to(device).eval()\n",
        "\n",
        "preprocess = transforms.Compose([\n",
        "    transforms.Resize((224, 224)),\n",
        "    transforms.ToTensor(),\n",
        "    transforms.Normalize(\n",
        "        mean=[0.485, 0.456, 0.406],\n",
        "        std=[0.229, 0.224, 0.225]\n",
        "    )\n",
        "])\n",
        "\n",
        "def process_single_image(url):\n",
        "    try:\n",
        "        image = Image.open(requests.get(url, timeout=3, stream=True).raw).convert(\"RGB\")\n",
        "        image = preprocess(image).unsqueeze(0).to(device)\n",
        "        with torch.no_grad():\n",
        "            emb = resnet(image).squeeze().cpu().numpy()  # zrzut z GPU do CPU\n",
        "        return emb\n",
        "    except:\n",
        "        return np.zeros(512)\n",
        "\n",
        "def get_image_embeddings(image_urls, max_images=3):\n",
        "    image_urls = image_urls[:max_images]\n",
        "    embeddings = []\n",
        "\n",
        "    with ThreadPoolExecutor(max_workers=max_images) as executor:\n",
        "        futures = [executor.submit(process_single_image, url) for url in image_urls]\n",
        "        for future in as_completed(futures):\n",
        "            embeddings.append(future.result())\n",
        "\n",
        "    while len(embeddings) < max_images:\n",
        "        embeddings.append(np.zeros(512))\n",
        "\n",
        "    return np.stack(embeddings)  # shape: (3, 512)\n",
        "\n",
        "if os.path.exists(SAVE_PATH):\n",
        "    embeddings_dict = np.load(SAVE_PATH, allow_pickle=True).item()\n",
        "    print(f\"🔁 Wczytano zapis: {len(embeddings_dict)} produktów\")\n",
        "else:\n",
        "    embeddings_dict = {}\n",
        "    print(\"🆕 Nowy dict start\")\n",
        "\n",
        "# --- Filtrowanie brakujących produktów ---\n",
        "remaining_rows = df_items[~df_items[\"parent_asin\"].isin(embeddings_dict.keys())]\n",
        "print(f\"📦 Do przetworzenia: {len(remaining_rows)} produktów\")\n",
        "\n",
        "# --- Pętla główna ---\n",
        "for idx, row in tqdm(remaining_rows.iterrows(), total=len(remaining_rows)):\n",
        "    item_id = row['parent_asin']\n",
        "    urls = row['image_urls']\n",
        "\n",
        "    if not isinstance(urls, list) or len(urls) == 0:\n",
        "        embeddings_dict[item_id] = np.zeros((3, 512))\n",
        "        continue\n",
        "\n",
        "    try:\n",
        "        emb = get_image_embeddings(urls, max_images=3)\n",
        "    except Exception as e:\n",
        "        warnings.warn(f\"Błąd dla produktu {item_id}: {e}\")\n",
        "        emb = np.zeros((3, 512))\n",
        "\n",
        "    embeddings_dict[item_id] = emb\n",
        "\n",
        "    if (idx + 1) % CHECKPOINT_EVERY == 0:\n",
        "        np.save(SAVE_PATH, embeddings_dict)\n",
        "        print(f\"💾 Zapisano checkpoint: {idx+1} produktów\")\n",
        "\n",
        "np.save(SAVE_PATH, embeddings_dict)\n",
        "print(\"✅ Przetwarzanie zakończone i zapisane\")\n"
      ]
    },
    {
      "cell_type": "markdown",
      "source": [
        "Batchowo zapisujemy embedingi do pliku,"
      ],
      "metadata": {
        "id": "VqyDzMuDMHb5"
      }
    },
    {
      "cell_type": "code",
      "source": [
        "import os\n",
        "import torch\n",
        "import numpy as np\n",
        "from PIL import Image\n",
        "import requests\n",
        "from torchvision import models, transforms\n",
        "from tqdm import tqdm\n",
        "from concurrent.futures import ThreadPoolExecutor, as_completed\n",
        "import warnings\n",
        "\n",
        "SAVE_PATH = \"/content/drive/MyDrive/DSC/EMBEDDINGS/image_embeddings_dict.npy\"\n",
        "CHECKPOINT_EVERY = 1000\n",
        "\n",
        "device = torch.device(\"cuda\" if torch.cuda.is_available() else \"cpu\")\n",
        "print(\"✅ Używamy urządzenia:\", device)\n",
        "\n",
        "resnet = models.resnet18(weights=models.ResNet18_Weights.DEFAULT)\n",
        "resnet = torch.nn.Sequential(*list(resnet.children())[:-1])\n",
        "resnet.to(device).eval()\n",
        "\n",
        "preprocess = transforms.Compose([\n",
        "    transforms.Resize((224, 224)),\n",
        "    transforms.ToTensor(),\n",
        "    transforms.Normalize(\n",
        "        mean=[0.485, 0.456, 0.406],\n",
        "        std=[0.229, 0.224, 0.225]\n",
        "    )\n",
        "])\n",
        "\n",
        "def process_single_image(url):\n",
        "    try:\n",
        "        image = Image.open(requests.get(url, timeout=3, stream=True).raw).convert(\"RGB\")\n",
        "        image = preprocess(image).unsqueeze(0).to(device)\n",
        "        with torch.no_grad():\n",
        "            emb = resnet(image).squeeze().cpu().numpy()\n",
        "        return emb\n",
        "    except:\n",
        "        return np.zeros(512)\n",
        "\n",
        "def get_image_embeddings(image_urls, max_images=3):\n",
        "    image_urls = image_urls[:max_images]\n",
        "    embeddings = []\n",
        "\n",
        "    with ThreadPoolExecutor(max_workers=max_images) as executor:\n",
        "        futures = [executor.submit(process_single_image, url) for url in image_urls]\n",
        "        for future in as_completed(futures):\n",
        "            embeddings.append(future.result())\n",
        "\n",
        "    while len(embeddings) < max_images:\n",
        "        embeddings.append(np.zeros(512))\n",
        "\n",
        "    return np.stack(embeddings)  # shape: (3, 512)\n",
        "\n",
        "if os.path.exists(SAVE_PATH):\n",
        "    embeddings_dict = np.load(SAVE_PATH, allow_pickle=True).item()\n",
        "    print(f\"🔁 Wczytano zapis: {len(embeddings_dict)} produktów\")\n",
        "else:\n",
        "    embeddings_dict = {}\n",
        "    print(\"🆕 Nowy dict start\")\n",
        "\n",
        "remaining_rows = df_items[~df_items[\"parent_asin\"].isin(embeddings_dict.keys())]\n",
        "print(f\"📦 Do przetworzenia: {len(remaining_rows)} produktów\")\n",
        "\n",
        "for idx, row in tqdm(remaining_rows.iterrows(), total=len(remaining_rows)):\n",
        "    item_id = row['parent_asin']\n",
        "    urls = row['image_urls']\n",
        "\n",
        "    if not isinstance(urls, list) or len(urls) == 0:\n",
        "        embeddings_dict[item_id] = np.zeros((3, 512))\n",
        "        continue\n",
        "\n",
        "    try:\n",
        "        emb = get_image_embeddings(urls, max_images=3)\n",
        "    except Exception as e:\n",
        "        warnings.warn(f\"Błąd dla produktu {item_id}: {e}\")\n",
        "        emb = np.zeros((3, 512))\n",
        "\n",
        "    embeddings_dict[item_id] = emb\n",
        "\n",
        "    if (idx + 1) % CHECKPOINT_EVERY == 0:\n",
        "        np.save(SAVE_PATH, embeddings_dict)\n",
        "        print(f\"💾 Zapisano checkpoint: {idx+1} produktów\")\n",
        "\n",
        "# --- Finalny zapis ---\n",
        "np.save(SAVE_PATH, embeddings_dict)\n",
        "print(\"✅ Przetwarzanie zakończone i zapisane\")\n"
      ],
      "metadata": {
        "id": "3T4UaV3AVdiz",
        "colab": {
          "base_uri": "https://localhost:8080/"
        },
        "outputId": "1b546ded-546b-471c-cab3-c7a6f1190236"
      },
      "execution_count": null,
      "outputs": [
        {
          "output_type": "stream",
          "name": "stdout",
          "text": [
            "✅ Używamy urządzenia: cpu\n"
          ]
        },
        {
          "output_type": "stream",
          "name": "stderr",
          "text": [
            "Downloading: \"https://download.pytorch.org/models/resnet18-f37072fd.pth\" to /root/.cache/torch/hub/checkpoints/resnet18-f37072fd.pth\n",
            "100%|██████████| 44.7M/44.7M [00:00<00:00, 163MB/s]\n"
          ]
        },
        {
          "output_type": "stream",
          "name": "stdout",
          "text": [
            "🔁 Wczytano zapis: 59000 produktów\n",
            "📦 Do przetworzenia: 18833 produktów\n"
          ]
        },
        {
          "output_type": "stream",
          "name": "stderr",
          "text": [
            "  5%|▌         | 1000/18833 [08:08<10:55:08,  2.20s/it]"
          ]
        },
        {
          "output_type": "stream",
          "name": "stdout",
          "text": [
            "💾 Zapisano checkpoint: 60000 produktów\n"
          ]
        },
        {
          "output_type": "stream",
          "name": "stderr",
          "text": [
            " 11%|█         | 2000/18833 [16:15<14:36:50,  3.13s/it]"
          ]
        },
        {
          "output_type": "stream",
          "name": "stdout",
          "text": [
            "💾 Zapisano checkpoint: 61000 produktów\n"
          ]
        },
        {
          "output_type": "stream",
          "name": "stderr",
          "text": [
            " 12%|█▏        | 2216/18833 [17:54<1:49:05,  2.54it/s]/usr/local/lib/python3.11/dist-packages/PIL/Image.py:1043: UserWarning: Palette images with Transparency expressed in bytes should be converted to RGBA images\n",
            "  warnings.warn(\n",
            " 16%|█▌        | 3000/18833 [24:01<12:17:43,  2.80s/it]"
          ]
        },
        {
          "output_type": "stream",
          "name": "stdout",
          "text": [
            "💾 Zapisano checkpoint: 62000 produktów\n"
          ]
        },
        {
          "output_type": "stream",
          "name": "stderr",
          "text": [
            " 21%|██        | 4000/18833 [31:55<8:51:13,  2.15s/it]"
          ]
        },
        {
          "output_type": "stream",
          "name": "stdout",
          "text": [
            "💾 Zapisano checkpoint: 63000 produktów\n"
          ]
        },
        {
          "output_type": "stream",
          "name": "stderr",
          "text": [
            " 27%|██▋       | 5000/18833 [40:10<11:03:40,  2.88s/it]"
          ]
        },
        {
          "output_type": "stream",
          "name": "stdout",
          "text": [
            "💾 Zapisano checkpoint: 64000 produktów\n"
          ]
        },
        {
          "output_type": "stream",
          "name": "stderr",
          "text": [
            " 32%|███▏      | 6000/18833 [48:45<9:36:07,  2.69s/it]"
          ]
        },
        {
          "output_type": "stream",
          "name": "stdout",
          "text": [
            "💾 Zapisano checkpoint: 65000 produktów\n"
          ]
        },
        {
          "output_type": "stream",
          "name": "stderr",
          "text": [
            " 37%|███▋      | 7000/18833 [57:39<10:41:00,  3.25s/it]"
          ]
        },
        {
          "output_type": "stream",
          "name": "stdout",
          "text": [
            "💾 Zapisano checkpoint: 66000 produktów\n"
          ]
        },
        {
          "output_type": "stream",
          "name": "stderr",
          "text": [
            " 42%|████▏     | 8000/18833 [1:06:20<8:48:18,  2.93s/it]"
          ]
        },
        {
          "output_type": "stream",
          "name": "stdout",
          "text": [
            "💾 Zapisano checkpoint: 67000 produktów\n"
          ]
        },
        {
          "output_type": "stream",
          "name": "stderr",
          "text": [
            " 48%|████▊     | 9000/18833 [1:15:16<10:40:00,  3.91s/it]"
          ]
        },
        {
          "output_type": "stream",
          "name": "stdout",
          "text": [
            "💾 Zapisano checkpoint: 68000 produktów\n"
          ]
        },
        {
          "output_type": "stream",
          "name": "stderr",
          "text": [
            " 53%|█████▎    | 10000/18833 [1:23:04<6:57:52,  2.84s/it]"
          ]
        },
        {
          "output_type": "stream",
          "name": "stdout",
          "text": [
            "💾 Zapisano checkpoint: 69000 produktów\n"
          ]
        },
        {
          "output_type": "stream",
          "name": "stderr",
          "text": [
            " 58%|█████▊    | 11000/18833 [1:32:03<8:06:41,  3.73s/it]"
          ]
        },
        {
          "output_type": "stream",
          "name": "stdout",
          "text": [
            "💾 Zapisano checkpoint: 70000 produktów\n"
          ]
        },
        {
          "output_type": "stream",
          "name": "stderr",
          "text": [
            " 64%|██████▎   | 12000/18833 [1:40:18<7:14:54,  3.82s/it]"
          ]
        },
        {
          "output_type": "stream",
          "name": "stdout",
          "text": [
            "💾 Zapisano checkpoint: 71000 produktów\n"
          ]
        },
        {
          "output_type": "stream",
          "name": "stderr",
          "text": [
            " 69%|██████▉   | 13000/18833 [1:48:48<5:01:39,  3.10s/it]"
          ]
        },
        {
          "output_type": "stream",
          "name": "stdout",
          "text": [
            "💾 Zapisano checkpoint: 72000 produktów\n"
          ]
        },
        {
          "output_type": "stream",
          "name": "stderr",
          "text": [
            " 74%|███████▍  | 14000/18833 [1:57:19<5:40:56,  4.23s/it]"
          ]
        },
        {
          "output_type": "stream",
          "name": "stdout",
          "text": [
            "💾 Zapisano checkpoint: 73000 produktów\n"
          ]
        },
        {
          "output_type": "stream",
          "name": "stderr",
          "text": [
            " 80%|███████▉  | 15000/18833 [2:05:04<1:59:43,  1.87s/it]"
          ]
        },
        {
          "output_type": "stream",
          "name": "stdout",
          "text": [
            "💾 Zapisano checkpoint: 74000 produktów\n"
          ]
        },
        {
          "output_type": "stream",
          "name": "stderr",
          "text": [
            " 85%|████████▍ | 16000/18833 [2:13:21<2:21:52,  3.00s/it]"
          ]
        },
        {
          "output_type": "stream",
          "name": "stdout",
          "text": [
            "💾 Zapisano checkpoint: 75000 produktów\n"
          ]
        },
        {
          "output_type": "stream",
          "name": "stderr",
          "text": [
            " 90%|█████████ | 17000/18833 [2:21:38<2:14:09,  4.39s/it]"
          ]
        },
        {
          "output_type": "stream",
          "name": "stdout",
          "text": [
            "💾 Zapisano checkpoint: 76000 produktów\n"
          ]
        },
        {
          "output_type": "stream",
          "name": "stderr",
          "text": [
            " 96%|█████████▌| 18000/18833 [2:30:59<47:21,  3.41s/it]"
          ]
        },
        {
          "output_type": "stream",
          "name": "stdout",
          "text": [
            "💾 Zapisano checkpoint: 77000 produktów\n"
          ]
        },
        {
          "output_type": "stream",
          "name": "stderr",
          "text": [
            "100%|██████████| 18833/18833 [2:38:21<00:00,  1.98it/s]\n"
          ]
        },
        {
          "output_type": "stream",
          "name": "stdout",
          "text": [
            "✅ Przetwarzanie zakończone i zapisane\n"
          ]
        }
      ]
    },
    {
      "cell_type": "code",
      "source": [
        "import numpy as np\n",
        "\n",
        "np.save(\"/content/drive/MyDrive/DSC/EMBEDDINGS/image_embeddings_dict.npy\", embeddings_dict)\n"
      ],
      "metadata": {
        "id": "NFN0eyZUVdEq"
      },
      "execution_count": null,
      "outputs": []
    }
  ],
  "metadata": {
    "colab": {
      "provenance": []
    },
    "kernelspec": {
      "display_name": "Python 3",
      "name": "python3"
    },
    "language_info": {
      "name": "python"
    }
  },
  "nbformat": 4,
  "nbformat_minor": 0
}